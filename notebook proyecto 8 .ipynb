{
 "cells": [
  {
   "cell_type": "markdown",
   "id": "86eb300a-9504-47ed-bdc0-947878d3a060",
   "metadata": {},
   "source": [
    "<div class=\"alert alert-block alert-success\">\n",
    "<b>Comentario general del revisor</b> <a class=\"tocSkip\"></a><br />\n",
    "Status del proyecto: <b>Aprobado</b>\n",
    "\n",
    "</div>\n"
   ]
  },
  {
   "cell_type": "markdown",
   "id": "de9b5a55-eb5f-4ee2-b3b8-8516be5ea68c",
   "metadata": {},
   "source": [
    "¡Hola!<br />\n",
    "Soy **Francisco Cortés**, estoy contento de revisar tu proyecto y ser parte de tu proceso de aprendizaje.\n",
    "A lo largo del texto, haré algunas observaciones sobre mejoras en el código y también haré comentarios sobre tus percepciones sobre el tema. Si existe algún error en el código, no te preocupes, estoy aquí para ayudarte a mejorarlo, en la primera iteración te lo señalaré para que tengas la oportunidad de corregirlo, pero si aún no encuentras una solución para esta tarea, te daré una pista más precisa en la próxima iteración y también algunos ejemplos prácticos. Estaré abierto a retroalimentación y discusiones sobre el tema.<br />\n",
    "Encontrarás mis comentarios a continuación - **por favor no los muevas, modifiques o borres**.\n",
    "Revisaré cuidadosamente tu código para comprobar que se han cumplido con los requisitos y te proporcionaré mis comentarios en cajas verdes, amarillas o rojas como esta:\n",
    "\n",
    "<div class=\"alert alert-block alert-success\">\n",
    "<b>Comentario del revisor</b> <a class=\"tocSkip\"></a>\n",
    "\n",
    "Si la ejecución fue perfecta succesfully.\n",
    "</div>\n",
    "\n",
    "<div class=\"alert alert-block alert-warning\">\n",
    "<b>Comentario del revisor</b> <a class=\"tocSkip\"></a>\n",
    "\n",
    "Si existe alguna recomendación para que tu código mejore.\n",
    "</div>\n",
    "\n",
    "<div class=\"alert alert-block alert-danger\">\n",
    "\n",
    "<b>Comentario del revisor</b> <a class=\"tocSkip\"></a>\n",
    "\n",
    "Si existen correcciones necesarias para cumplir con los requisitos. El trabajo no puede ser aceptado si hay alguna caja roja.\n",
    "</div>\n",
    "\n",
    "Puedes responderme de la siguiente manera:\n",
    "\n",
    "<div class=\"alert alert-block alert-info\">\n",
    "<b>Respuesta del estudiante.</b> <a class=\"tocSkip\"></a>\n",
    "</div>"
   ]
  },
  {
   "cell_type": "markdown",
   "id": "607234b0",
   "metadata": {},
   "source": [
    "# Análisis Exploratorio de Datos (EDA)\n",
    "Analizar datos de taxis en Chicago (viajes, barrios, clima) para sacar conclusiones explorando los datos y luego probar una hipótesis estadística sobre los tiempos de viaje."
   ]
  },
  {
   "cell_type": "markdown",
   "id": "f75bfa4f",
   "metadata": {},
   "source": [
    "### Paso 1. Abre los archivos de datos y estudia la información general "
   ]
  },
  {
   "cell_type": "code",
   "execution_count": 1,
   "id": "764114de",
   "metadata": {},
   "outputs": [],
   "source": [
    "# Cargar las librerías\n",
    "\n",
    "\n",
    "import pandas as pd# Manipulación de datos\n",
    "import matplotlib.pyplot as plt# Visualización básica\n",
    "import seaborn as sns# Visualización básica\n",
    "import plotly.express as px# Visualización interactiva \n",
    "import streamlit as st# Estadística\n",
    "from scipy import stats as st# Estadística avanzada\n"
   ]
  },
  {
   "cell_type": "markdown",
   "id": "3ae52dd6",
   "metadata": {},
   "source": [
    "### 1.1. Estudiar los Datos que Contienen"
   ]
  },
  {
   "cell_type": "code",
   "execution_count": 2,
   "id": "01f0711b",
   "metadata": {},
   "outputs": [],
   "source": [
    "# Cargar los datos de los archivos CSV\n",
    "df_company                = pd.read_csv('moved_project_sql_result_01.csv')\n",
    "df_dropoff_location_name  = pd.read_csv('moved_project_sql_result_04.csv')\n",
    "\n"
   ]
  },
  {
   "cell_type": "markdown",
   "id": "008fc941",
   "metadata": {},
   "source": [
    "### 1.2 Estudiar los datos de moved_project_sql_result_01.csv"
   ]
  },
  {
   "cell_type": "code",
   "execution_count": 3,
   "id": "18b23140",
   "metadata": {},
   "outputs": [
    {
     "name": "stdout",
     "output_type": "stream",
     "text": [
      "Primeras filas de df_company:\n"
     ]
    },
    {
     "data": {
      "text/html": [
       "<div>\n",
       "<style scoped>\n",
       "    .dataframe tbody tr th:only-of-type {\n",
       "        vertical-align: middle;\n",
       "    }\n",
       "\n",
       "    .dataframe tbody tr th {\n",
       "        vertical-align: top;\n",
       "    }\n",
       "\n",
       "    .dataframe thead th {\n",
       "        text-align: right;\n",
       "    }\n",
       "</style>\n",
       "<table border=\"1\" class=\"dataframe\">\n",
       "  <thead>\n",
       "    <tr style=\"text-align: right;\">\n",
       "      <th></th>\n",
       "      <th>company_name</th>\n",
       "      <th>trips_amount</th>\n",
       "    </tr>\n",
       "  </thead>\n",
       "  <tbody>\n",
       "    <tr>\n",
       "      <th>0</th>\n",
       "      <td>Flash Cab</td>\n",
       "      <td>19558</td>\n",
       "    </tr>\n",
       "    <tr>\n",
       "      <th>1</th>\n",
       "      <td>Taxi Affiliation Services</td>\n",
       "      <td>11422</td>\n",
       "    </tr>\n",
       "    <tr>\n",
       "      <th>2</th>\n",
       "      <td>Medallion Leasin</td>\n",
       "      <td>10367</td>\n",
       "    </tr>\n",
       "    <tr>\n",
       "      <th>3</th>\n",
       "      <td>Yellow Cab</td>\n",
       "      <td>9888</td>\n",
       "    </tr>\n",
       "    <tr>\n",
       "      <th>4</th>\n",
       "      <td>Taxi Affiliation Service Yellow</td>\n",
       "      <td>9299</td>\n",
       "    </tr>\n",
       "    <tr>\n",
       "      <th>5</th>\n",
       "      <td>Chicago Carriage Cab Corp</td>\n",
       "      <td>9181</td>\n",
       "    </tr>\n",
       "    <tr>\n",
       "      <th>6</th>\n",
       "      <td>City Service</td>\n",
       "      <td>8448</td>\n",
       "    </tr>\n",
       "    <tr>\n",
       "      <th>7</th>\n",
       "      <td>Sun Taxi</td>\n",
       "      <td>7701</td>\n",
       "    </tr>\n",
       "    <tr>\n",
       "      <th>8</th>\n",
       "      <td>Star North Management LLC</td>\n",
       "      <td>7455</td>\n",
       "    </tr>\n",
       "    <tr>\n",
       "      <th>9</th>\n",
       "      <td>Blue Ribbon Taxi Association Inc.</td>\n",
       "      <td>5953</td>\n",
       "    </tr>\n",
       "  </tbody>\n",
       "</table>\n",
       "</div>"
      ],
      "text/plain": [
       "                        company_name  trips_amount\n",
       "0                          Flash Cab         19558\n",
       "1          Taxi Affiliation Services         11422\n",
       "2                   Medallion Leasin         10367\n",
       "3                         Yellow Cab          9888\n",
       "4    Taxi Affiliation Service Yellow          9299\n",
       "5          Chicago Carriage Cab Corp          9181\n",
       "6                       City Service          8448\n",
       "7                           Sun Taxi          7701\n",
       "8          Star North Management LLC          7455\n",
       "9  Blue Ribbon Taxi Association Inc.          5953"
      ]
     },
     "metadata": {},
     "output_type": "display_data"
    },
    {
     "name": "stdout",
     "output_type": "stream",
     "text": [
      "\n",
      "Resumen de información de df_company:\n",
      "<class 'pandas.core.frame.DataFrame'>\n",
      "RangeIndex: 64 entries, 0 to 63\n",
      "Data columns (total 2 columns):\n",
      " #   Column        Non-Null Count  Dtype \n",
      "---  ------        --------------  ----- \n",
      " 0   company_name  64 non-null     object\n",
      " 1   trips_amount  64 non-null     int64 \n",
      "dtypes: int64(1), object(1)\n",
      "memory usage: 1.1+ KB\n",
      "\n",
      "Estadísticas descriptivas de df_company:\n"
     ]
    },
    {
     "data": {
      "text/html": [
       "<div>\n",
       "<style scoped>\n",
       "    .dataframe tbody tr th:only-of-type {\n",
       "        vertical-align: middle;\n",
       "    }\n",
       "\n",
       "    .dataframe tbody tr th {\n",
       "        vertical-align: top;\n",
       "    }\n",
       "\n",
       "    .dataframe thead th {\n",
       "        text-align: right;\n",
       "    }\n",
       "</style>\n",
       "<table border=\"1\" class=\"dataframe\">\n",
       "  <thead>\n",
       "    <tr style=\"text-align: right;\">\n",
       "      <th></th>\n",
       "      <th>trips_amount</th>\n",
       "    </tr>\n",
       "  </thead>\n",
       "  <tbody>\n",
       "    <tr>\n",
       "      <th>count</th>\n",
       "      <td>64.000000</td>\n",
       "    </tr>\n",
       "    <tr>\n",
       "      <th>mean</th>\n",
       "      <td>2145.484375</td>\n",
       "    </tr>\n",
       "    <tr>\n",
       "      <th>std</th>\n",
       "      <td>3812.310186</td>\n",
       "    </tr>\n",
       "    <tr>\n",
       "      <th>min</th>\n",
       "      <td>2.000000</td>\n",
       "    </tr>\n",
       "    <tr>\n",
       "      <th>25%</th>\n",
       "      <td>20.750000</td>\n",
       "    </tr>\n",
       "    <tr>\n",
       "      <th>50%</th>\n",
       "      <td>178.500000</td>\n",
       "    </tr>\n",
       "    <tr>\n",
       "      <th>75%</th>\n",
       "      <td>2106.500000</td>\n",
       "    </tr>\n",
       "    <tr>\n",
       "      <th>max</th>\n",
       "      <td>19558.000000</td>\n",
       "    </tr>\n",
       "  </tbody>\n",
       "</table>\n",
       "</div>"
      ],
      "text/plain": [
       "       trips_amount\n",
       "count     64.000000\n",
       "mean    2145.484375\n",
       "std     3812.310186\n",
       "min        2.000000\n",
       "25%       20.750000\n",
       "50%      178.500000\n",
       "75%     2106.500000\n",
       "max    19558.000000"
      ]
     },
     "metadata": {},
     "output_type": "display_data"
    }
   ],
   "source": [
    "# cargar los datos de moved_project_sql_result_01.csv\n",
    "\n",
    "print(\"Primeras filas de df_company:\")\n",
    "display(df_company.head(10))\n",
    "# información de df_company\n",
    "print(\"\\nResumen de información de df_company:\")\n",
    "df_company.info()\n",
    "# Estadísticas descriptivas de df_company\n",
    "print(\"\\nEstadísticas descriptivas de df_company:\")\n",
    "display(df_company.describe())\n"
   ]
  },
  {
   "cell_type": "markdown",
   "id": "51dd9378",
   "metadata": {},
   "source": [
    "### 1.3 Estudiar los datos de moved_project_sql_result_04.csv"
   ]
  },
  {
   "cell_type": "code",
   "execution_count": 4,
   "id": "c6fcad52",
   "metadata": {},
   "outputs": [
    {
     "name": "stdout",
     "output_type": "stream",
     "text": [
      "\n",
      "Primeras filas de df_dropoff_location_name:\n"
     ]
    },
    {
     "data": {
      "text/html": [
       "<div>\n",
       "<style scoped>\n",
       "    .dataframe tbody tr th:only-of-type {\n",
       "        vertical-align: middle;\n",
       "    }\n",
       "\n",
       "    .dataframe tbody tr th {\n",
       "        vertical-align: top;\n",
       "    }\n",
       "\n",
       "    .dataframe thead th {\n",
       "        text-align: right;\n",
       "    }\n",
       "</style>\n",
       "<table border=\"1\" class=\"dataframe\">\n",
       "  <thead>\n",
       "    <tr style=\"text-align: right;\">\n",
       "      <th></th>\n",
       "      <th>dropoff_location_name</th>\n",
       "      <th>average_trips</th>\n",
       "    </tr>\n",
       "  </thead>\n",
       "  <tbody>\n",
       "    <tr>\n",
       "      <th>0</th>\n",
       "      <td>Loop</td>\n",
       "      <td>10727.466667</td>\n",
       "    </tr>\n",
       "    <tr>\n",
       "      <th>1</th>\n",
       "      <td>River North</td>\n",
       "      <td>9523.666667</td>\n",
       "    </tr>\n",
       "    <tr>\n",
       "      <th>2</th>\n",
       "      <td>Streeterville</td>\n",
       "      <td>6664.666667</td>\n",
       "    </tr>\n",
       "    <tr>\n",
       "      <th>3</th>\n",
       "      <td>West Loop</td>\n",
       "      <td>5163.666667</td>\n",
       "    </tr>\n",
       "    <tr>\n",
       "      <th>4</th>\n",
       "      <td>O'Hare</td>\n",
       "      <td>2546.900000</td>\n",
       "    </tr>\n",
       "    <tr>\n",
       "      <th>5</th>\n",
       "      <td>Lake View</td>\n",
       "      <td>2420.966667</td>\n",
       "    </tr>\n",
       "    <tr>\n",
       "      <th>6</th>\n",
       "      <td>Grant Park</td>\n",
       "      <td>2068.533333</td>\n",
       "    </tr>\n",
       "    <tr>\n",
       "      <th>7</th>\n",
       "      <td>Museum Campus</td>\n",
       "      <td>1510.000000</td>\n",
       "    </tr>\n",
       "    <tr>\n",
       "      <th>8</th>\n",
       "      <td>Gold Coast</td>\n",
       "      <td>1364.233333</td>\n",
       "    </tr>\n",
       "    <tr>\n",
       "      <th>9</th>\n",
       "      <td>Sheffield &amp; DePaul</td>\n",
       "      <td>1259.766667</td>\n",
       "    </tr>\n",
       "  </tbody>\n",
       "</table>\n",
       "</div>"
      ],
      "text/plain": [
       "  dropoff_location_name  average_trips\n",
       "0                  Loop   10727.466667\n",
       "1           River North    9523.666667\n",
       "2         Streeterville    6664.666667\n",
       "3             West Loop    5163.666667\n",
       "4                O'Hare    2546.900000\n",
       "5             Lake View    2420.966667\n",
       "6            Grant Park    2068.533333\n",
       "7         Museum Campus    1510.000000\n",
       "8            Gold Coast    1364.233333\n",
       "9    Sheffield & DePaul    1259.766667"
      ]
     },
     "metadata": {},
     "output_type": "display_data"
    },
    {
     "name": "stdout",
     "output_type": "stream",
     "text": [
      "\n",
      "Resumen de información de df_dropoff_location_name:\n",
      "<class 'pandas.core.frame.DataFrame'>\n",
      "RangeIndex: 94 entries, 0 to 93\n",
      "Data columns (total 2 columns):\n",
      " #   Column                 Non-Null Count  Dtype  \n",
      "---  ------                 --------------  -----  \n",
      " 0   dropoff_location_name  94 non-null     object \n",
      " 1   average_trips          94 non-null     float64\n",
      "dtypes: float64(1), object(1)\n",
      "memory usage: 1.6+ KB\n",
      "\n",
      "Estadísticas descriptivas de df_dropoff_location_name:\n"
     ]
    },
    {
     "data": {
      "text/html": [
       "<div>\n",
       "<style scoped>\n",
       "    .dataframe tbody tr th:only-of-type {\n",
       "        vertical-align: middle;\n",
       "    }\n",
       "\n",
       "    .dataframe tbody tr th {\n",
       "        vertical-align: top;\n",
       "    }\n",
       "\n",
       "    .dataframe thead th {\n",
       "        text-align: right;\n",
       "    }\n",
       "</style>\n",
       "<table border=\"1\" class=\"dataframe\">\n",
       "  <thead>\n",
       "    <tr style=\"text-align: right;\">\n",
       "      <th></th>\n",
       "      <th>average_trips</th>\n",
       "    </tr>\n",
       "  </thead>\n",
       "  <tbody>\n",
       "    <tr>\n",
       "      <th>count</th>\n",
       "      <td>94.000000</td>\n",
       "    </tr>\n",
       "    <tr>\n",
       "      <th>mean</th>\n",
       "      <td>599.953728</td>\n",
       "    </tr>\n",
       "    <tr>\n",
       "      <th>std</th>\n",
       "      <td>1714.591098</td>\n",
       "    </tr>\n",
       "    <tr>\n",
       "      <th>min</th>\n",
       "      <td>1.800000</td>\n",
       "    </tr>\n",
       "    <tr>\n",
       "      <th>25%</th>\n",
       "      <td>14.266667</td>\n",
       "    </tr>\n",
       "    <tr>\n",
       "      <th>50%</th>\n",
       "      <td>52.016667</td>\n",
       "    </tr>\n",
       "    <tr>\n",
       "      <th>75%</th>\n",
       "      <td>298.858333</td>\n",
       "    </tr>\n",
       "    <tr>\n",
       "      <th>max</th>\n",
       "      <td>10727.466667</td>\n",
       "    </tr>\n",
       "  </tbody>\n",
       "</table>\n",
       "</div>"
      ],
      "text/plain": [
       "       average_trips\n",
       "count      94.000000\n",
       "mean      599.953728\n",
       "std      1714.591098\n",
       "min         1.800000\n",
       "25%        14.266667\n",
       "50%        52.016667\n",
       "75%       298.858333\n",
       "max     10727.466667"
      ]
     },
     "metadata": {},
     "output_type": "display_data"
    }
   ],
   "source": [
    "#cargar los datos de moved_project_sql_result_04.csv\n",
    "\n",
    "print(\"\\nPrimeras filas de df_dropoff_location_name:\")\n",
    "display(df_dropoff_location_name.head(10))\n",
    "# información de df_dropoff_location_name\n",
    "print(\"\\nResumen de información de df_dropoff_location_name:\")\n",
    "df_dropoff_location_name.info()\n",
    "# Estadísticas descriptivas de df_dropoff_location_name\n",
    "print(\"\\nEstadísticas descriptivas de df_dropoff_location_name:\")\n",
    "display(df_dropoff_location_name.describe())"
   ]
  },
  {
   "cell_type": "markdown",
   "id": "9d755af1",
   "metadata": {},
   "source": [
    "### 1.4  Asegurarse de que los Tipos de Datos Sean Correctos"
   ]
  },
  {
   "cell_type": "code",
   "execution_count": 5,
   "id": "7790b970",
   "metadata": {},
   "outputs": [
    {
     "name": "stdout",
     "output_type": "stream",
     "text": [
      "\n",
      "Tipos de datos actualizados de df_company:\n",
      "company_name    object\n",
      "trips_amount     int64\n",
      "dtype: object\n",
      "\n",
      "Tipos de datos actualizados de df_dropoff_location_name:\n",
      "dropoff_location_name     object\n",
      "average_trips            float64\n",
      "dtype: object\n",
      "\n",
      "Valores nulos en df_company:\n",
      "company_name    0\n",
      "trips_amount    0\n",
      "dtype: int64\n",
      "\n",
      "Valores nulos en df_dropoff_location_name:\n",
      "dropoff_location_name    0\n",
      "average_trips            0\n",
      "dtype: int64\n"
     ]
    }
   ],
   "source": [
    "# Verificar los tipos de datos sean correctos\n",
    "\n",
    "# Convertir trips_amount a numérico si no lo es\n",
    "if df_company['trips_amount'].dtype == 'object':\n",
    "    df_company['trips_amount'] = pd.to_numeric(df_company['trips_amount'], errors='coerce')\n",
    "\n",
    "# Convertir average_trips a numérico si no lo es\n",
    "if df_dropoff_location_name['average_trips'].dtype == 'object':\n",
    "    df_dropoff_location_name['average_trips'] = pd.to_numeric(df_dropoff_location_name['average_trips'], errors='coerce')\n",
    "\n",
    "# Verificar los tipos de datos después de la conversión\n",
    "print(\"\\nTipos de datos actualizados de df_company:\")\n",
    "print(df_company.dtypes)\n",
    "\n",
    "print(\"\\nTipos de datos actualizados de df_dropoff_location_name:\")\n",
    "print(df_dropoff_location_name.dtypes)\n",
    "\n",
    "# Verificar si hay valores nulos en las columnas relevantes\n",
    "print(\"\\nValores nulos en df_company:\") \n",
    "print(df_company.isnull().sum())\n",
    "print(\"\\nValores nulos en df_dropoff_location_name:\")\n",
    "print(df_dropoff_location_name.isnull().sum())\n"
   ]
  },
  {
   "cell_type": "markdown",
   "id": "f91991ac-e6bc-4511-97b2-5ec3a0eada12",
   "metadata": {},
   "source": [
    "<div class=\"alert alert-block alert-success\"> <b>Comentario del revisor</b> <a class=\"tocSkip\"></a><br>\n",
    "\n",
    "Correcto!<br/>\n",
    "\n",
    "Buena manera de leer los datos y revisas los datos\n",
    "</div>"
   ]
  },
  {
   "cell_type": "markdown",
   "id": "e93c1c08",
   "metadata": {},
   "source": [
    "### 1.5. Identificar los 10 Principales Barrios en Términos de Finalización del Recorrido"
   ]
  },
  {
   "cell_type": "code",
   "execution_count": 6,
   "id": "4f2b59ad",
   "metadata": {},
   "outputs": [
    {
     "data": {
      "text/html": [
       "<div>\n",
       "<style scoped>\n",
       "    .dataframe tbody tr th:only-of-type {\n",
       "        vertical-align: middle;\n",
       "    }\n",
       "\n",
       "    .dataframe tbody tr th {\n",
       "        vertical-align: top;\n",
       "    }\n",
       "\n",
       "    .dataframe thead th {\n",
       "        text-align: right;\n",
       "    }\n",
       "</style>\n",
       "<table border=\"1\" class=\"dataframe\">\n",
       "  <thead>\n",
       "    <tr style=\"text-align: right;\">\n",
       "      <th></th>\n",
       "      <th>dropoff_location_name</th>\n",
       "      <th>average_trips</th>\n",
       "    </tr>\n",
       "  </thead>\n",
       "  <tbody>\n",
       "    <tr>\n",
       "      <th>0</th>\n",
       "      <td>Loop</td>\n",
       "      <td>10727.5</td>\n",
       "    </tr>\n",
       "    <tr>\n",
       "      <th>1</th>\n",
       "      <td>River North</td>\n",
       "      <td>9523.7</td>\n",
       "    </tr>\n",
       "    <tr>\n",
       "      <th>2</th>\n",
       "      <td>Streeterville</td>\n",
       "      <td>6664.7</td>\n",
       "    </tr>\n",
       "    <tr>\n",
       "      <th>3</th>\n",
       "      <td>West Loop</td>\n",
       "      <td>5163.7</td>\n",
       "    </tr>\n",
       "    <tr>\n",
       "      <th>4</th>\n",
       "      <td>O'Hare</td>\n",
       "      <td>2546.9</td>\n",
       "    </tr>\n",
       "    <tr>\n",
       "      <th>5</th>\n",
       "      <td>Lake View</td>\n",
       "      <td>2421.0</td>\n",
       "    </tr>\n",
       "    <tr>\n",
       "      <th>6</th>\n",
       "      <td>Grant Park</td>\n",
       "      <td>2068.5</td>\n",
       "    </tr>\n",
       "    <tr>\n",
       "      <th>7</th>\n",
       "      <td>Museum Campus</td>\n",
       "      <td>1510.0</td>\n",
       "    </tr>\n",
       "    <tr>\n",
       "      <th>8</th>\n",
       "      <td>Gold Coast</td>\n",
       "      <td>1364.2</td>\n",
       "    </tr>\n",
       "    <tr>\n",
       "      <th>9</th>\n",
       "      <td>Sheffield &amp; DePaul</td>\n",
       "      <td>1259.8</td>\n",
       "    </tr>\n",
       "  </tbody>\n",
       "</table>\n",
       "</div>"
      ],
      "text/plain": [
       "  dropoff_location_name  average_trips\n",
       "0                  Loop        10727.5\n",
       "1           River North         9523.7\n",
       "2         Streeterville         6664.7\n",
       "3             West Loop         5163.7\n",
       "4                O'Hare         2546.9\n",
       "5             Lake View         2421.0\n",
       "6            Grant Park         2068.5\n",
       "7         Museum Campus         1510.0\n",
       "8            Gold Coast         1364.2\n",
       "9    Sheffield & DePaul         1259.8"
      ]
     },
     "metadata": {},
     "output_type": "display_data"
    }
   ],
   "source": [
    "# identificar los 10 principales barrios en términos de finalización del recorrido barrios\n",
    "\n",
    "# Ordenar y seleccionar los 10 principales barrios\n",
    "top_10_barrios = df_dropoff_location_name.sort_values(by='average_trips', ascending=False).head(10).round(1)#Redondear average_trips a 1 decimales solo para visualización.\n",
    "\n",
    "# Mostrar los 10 principales barrios\n",
    "display(top_10_barrios)\n",
    "\n"
   ]
  },
  {
   "cell_type": "markdown",
   "id": "c2a75683",
   "metadata": {},
   "source": [
    "### 1.6 Hacer gráficos: Empresas de taxis y número de viajes, los 10 barrios principales por número de finalizaciones.\n",
    "#### Conclusiones del gráfico de empresas de taxis. El gráfico muestra que la empresa 'Flash Cab' lidera en número de viajes realizados el 15 y 16 de noviembre de 2017, seguida por 'Taxi Affiliation Services' y 'Taxi Affiliation'. Estas tres compañías destacan significativamente frente a otras, lo que sugiere que tienen mayor presencia o volumen de operaciones en esos días específicos."
   ]
  },
  {
   "cell_type": "code",
   "execution_count": 7,
   "id": "a59253b5",
   "metadata": {},
   "outputs": [
    {
     "name": "stderr",
     "output_type": "stream",
     "text": [
      "/var/folders/3w/4wgjx7x52nj3rcn3lzvvr2l80000gn/T/ipykernel_38622/141199422.py:4: FutureWarning: \n",
      "\n",
      "Passing `palette` without assigning `hue` is deprecated and will be removed in v0.14.0. Assign the `y` variable to `hue` and set `legend=False` for the same effect.\n",
      "\n",
      "  ax = sns.barplot(data=top_10_empresas, x='trips_amount', y='company_name', palette='viridis')\n"
     ]
    },
    {
     "data": {
      "image/png": "[encoded data removed]",
      "text/plain": [
       "<Figure size 1000x600 with 1 Axes>"
      ]
     },
     "metadata": {},
     "output_type": "display_data"
    }
   ],
   "source": [
    "# Seleccionamos las 10 principales empresas de taxi por número de viajes\n",
    "top_10_empresas = df_company.sort_values(by='trips_amount', ascending=False).head(10)\n",
    "plt.figure(figsize=(10, 6))\n",
    "ax = sns.barplot(data=top_10_empresas, x='trips_amount', y='company_name', palette='viridis')\n",
    "\n",
    "# Agregar números dentro de las barras\n",
    "for i, v in enumerate(top_10_empresas['trips_amount']):\n",
    "    ax.text(v/2, i, str(v), ha='center', va='center', fontweight='bold', color='white', fontsize=10)\n",
    "# Personalizar el gráfico\n",
    "plt.title('Top 10 Empresas de Taxis por Número de Viajes (15-16 Nov 2017)')\n",
    "plt.xlabel('Número de Viajes')\n",
    "plt.ylabel('Empresa de Taxis')\n",
    "plt.tight_layout()\n",
    "plt.show()"
   ]
  },
  {
   "cell_type": "markdown",
   "id": "5d8e2bfd-27e6-456e-9c82-f88e7487e80c",
   "metadata": {},
   "source": [
    "<div class=\"alert alert-block alert-success\"> <b>Comentario del revisor</b> <a class=\"tocSkip\"></a><br>\n",
    "\n",
    "Correcto!<br/>\n",
    "\n",
    "Buena manera de mostrar el resultado, se puede observar la compañía que tiene más viajes agendados gracias a que limitaste el número de compañías a mostrar\n",
    "</div>"
   ]
  },
  {
   "cell_type": "markdown",
   "id": "1046b1f9",
   "metadata": {},
   "source": [
    "#### Conclusiones del gráfico de barrios\n",
    "Los barrios más populares para finalizar viajes en noviembre de 2017 incluyen 'Loop', 'River North', y 'Streeterville', con el Loop encabezando por un margen considerable.\n",
    "Estos barrios probablemente concentran centros de trabajo, turismo o actividades comerciales, lo cual explicaría la alta cantidad promedio de viajes terminados allí.\n",
    "Este patrón sugiere una alta demanda de transporte en áreas céntricas o comerciales de Chicago."
   ]
  },
  {
   "cell_type": "code",
   "execution_count": 8,
   "id": "fd52b961",
   "metadata": {},
   "outputs": [
    {
     "data": {
      "application/vnd.plotly.v1+json": {
       "config": {
        "plotlyServerURL": "https://plot.ly"
       },
       "data": [
        {
         "hovertemplate": "Viajes Promedio=%{text}<br>Barrio=%{y}<extra></extra>",
         "legendgroup": "",
         "marker": {
          "color": "#000001",
          "pattern": {
           "shape": ""
          }
         },
         "name": "",
         "orientation": "h",
         "showlegend": false,
         "text": {
          "bdata": "AAAAAMDzxECamZmZ2ZnCQDMzMzOzCLpAMzMzM7MrtEDNzMzMzOWjQAAAAAAA6qJAAAAAAAApoEAAAAAAAJiXQM3MzMzMUJVAMzMzMzOvk0A=",
          "dtype": "f8"
         },
         "textposition": "outside",
         "texttemplate": "%{text:.2s}",
         "type": "bar",
         "x": {
          "bdata": "AAAAAMDzxECamZmZ2ZnCQDMzMzOzCLpAMzMzM7MrtEDNzMzMzOWjQAAAAAAA6qJAAAAAAAApoEAAAAAAAJiXQM3MzMzMUJVAMzMzMzOvk0A=",
          "dtype": "f8"
         },
         "xaxis": "x",
         "y": [
          "Loop",
          "River North",
          "Streeterville",
          "West Loop",
          "O'Hare",
          "Lake View",
          "Grant Park",
          "Museum Campus",
          "Gold Coast",
          "Sheffield & DePaul"
         ],
         "yaxis": "y"
        }
       ],
       "layout": {
        "barmode": "relative",
        "legend": {
         "tracegroupgap": 0
        },
        "template": {
         "data": {
          "candlestick": [
           {
            "decreasing": {
             "line": {
              "color": "#000033"
             }
            },
            "increasing": {
             "line": {
              "color": "#000032"
             }
            },
            "type": "candlestick"
           }
          ],
          "contour": [
           {
            "colorscale": [
             [
              0,
              "#000011"
             ],
             [
              0.1111111111111111,
              "#000012"
             ],
             [
              0.2222222222222222,
              "#000013"
             ],
             [
              0.3333333333333333,
              "#000014"
             ],
             [
              0.4444444444444444,
              "#000015"
             ],
             [
              0.5555555555555556,
              "#000016"
             ],
             [
              0.6666666666666666,
              "#000017"
             ],
             [
              0.7777777777777778,
              "#000018"
             ],
             [
              0.8888888888888888,
              "#000019"
             ],
             [
              1,
              "#000020"
             ]
            ],
            "type": "contour"
           }
          ],
          "contourcarpet": [
           {
            "colorscale": [
             [
              0,
              "#000011"
             ],
             [
              0.1111111111111111,
              "#000012"
             ],
             [
              0.2222222222222222,
              "#000013"
             ],
             [
              0.3333333333333333,
              "#000014"
             ],
             [
              0.4444444444444444,
              "#000015"
             ],
             [
              0.5555555555555556,
              "#000016"
             ],
             [
              0.6666666666666666,
              "#000017"
             ],
             [
              0.7777777777777778,
              "#000018"
             ],
             [
              0.8888888888888888,
              "#000019"
             ],
             [
              1,
              "#000020"
             ]
            ],
            "type": "contourcarpet"
           }
          ],
          "heatmap": [
           {
            "colorscale": [
             [
              0,
              "#000011"
             ],
             [
              0.1111111111111111,
              "#000012"
             ],
             [
              0.2222222222222222,
              "#000013"
             ],
             [
              0.3333333333333333,
              "#000014"
             ],
             [
              0.4444444444444444,
              "#000015"
             ],
             [
              0.5555555555555556,
              "#000016"
             ],
             [
              0.6666666666666666,
              "#000017"
             ],
             [
              0.7777777777777778,
              "#000018"
             ],
             [
              0.8888888888888888,
              "#000019"
             ],
             [
              1,
              "#000020"
             ]
            ],
            "type": "heatmap"
           }
          ],
          "histogram2d": [
           {
            "colorscale": [
             [
              0,
              "#000011"
             ],
             [
              0.1111111111111111,
              "#000012"
             ],
             [
              0.2222222222222222,
              "#000013"
             ],
             [
              0.3333333333333333,
              "#000014"
             ],
             [
              0.4444444444444444,
              "#000015"
             ],
             [
              0.5555555555555556,
              "#000016"
             ],
             [
              0.6666666666666666,
              "#000017"
             ],
             [
              0.7777777777777778,
              "#000018"
             ],
             [
              0.8888888888888888,
              "#000019"
             ],
             [
              1,
              "#000020"
             ]
            ],
            "type": "histogram2d"
           }
          ],
          "icicle": [
           {
            "textfont": {
             "color": "white"
            },
            "type": "icicle"
           }
          ],
          "sankey": [
           {
            "textfont": {
             "color": "#000036"
            },
            "type": "sankey"
           }
          ],
          "scatter": [
           {
            "marker": {
             "line": {
              "width": 0
             }
            },
            "type": "scatter"
           }
          ],
          "table": [
           {
            "cells": {
             "fill": {
              "color": "#000038"
             },
             "font": {
              "color": "#000037"
             },
             "line": {
              "color": "#000039"
             }
            },
            "header": {
             "fill": {
              "color": "#000040"
             },
             "font": {
              "color": "#000036"
             },
             "line": {
              "color": "#000039"
             }
            },
            "type": "table"
           }
          ],
          "waterfall": [
           {
            "connector": {
             "line": {
              "color": "#000036",
              "width": 2
             }
            },
            "decreasing": {
             "marker": {
              "color": "#000033"
             }
            },
            "increasing": {
             "marker": {
              "color": "#000032"
             }
            },
            "totals": {
             "marker": {
              "color": "#000034"
             }
            },
            "type": "waterfall"
           }
          ]
         },
         "layout": {
          "coloraxis": {
           "colorscale": [
            [
             0,
             "#000011"
            ],
            [
             0.1111111111111111,
             "#000012"
            ],
            [
             0.2222222222222222,
             "#000013"
            ],
            [
             0.3333333333333333,
             "#000014"
            ],
            [
             0.4444444444444444,
             "#000015"
            ],
            [
             0.5555555555555556,
             "#000016"
            ],
            [
             0.6666666666666666,
             "#000017"
            ],
            [
             0.7777777777777778,
             "#000018"
            ],
            [
             0.8888888888888888,
             "#000019"
            ],
            [
             1,
             "#000020"
            ]
           ]
          },
          "colorscale": {
           "diverging": [
            [
             0,
             "#000021"
            ],
            [
             0.1,
             "#000022"
            ],
            [
             0.2,
             "#000023"
            ],
            [
             0.3,
             "#000024"
            ],
            [
             0.4,
             "#000025"
            ],
            [
             0.5,
             "#000026"
            ],
            [
             0.6,
             "#000027"
            ],
            [
             0.7,
             "#000028"
            ],
            [
             0.8,
             "#000029"
            ],
            [
             0.9,
             "#000030"
            ],
            [
             1,
             "#000031"
            ]
           ],
           "sequential": [
            [
             0,
             "#000011"
            ],
            [
             0.1111111111111111,
             "#000012"
            ],
            [
             0.2222222222222222,
             "#000013"
            ],
            [
             0.3333333333333333,
             "#000014"
            ],
            [
             0.4444444444444444,
             "#000015"
            ],
            [
             0.5555555555555556,
             "#000016"
            ],
            [
             0.6666666666666666,
             "#000017"
            ],
            [
             0.7777777777777778,
             "#000018"
            ],
            [
             0.8888888888888888,
             "#000019"
            ],
            [
             1,
             "#000020"
            ]
           ],
           "sequentialminus": [
            [
             0,
             "#000011"
            ],
            [
             0.1111111111111111,
             "#000012"
            ],
            [
             0.2222222222222222,
             "#000013"
            ],
            [
             0.3333333333333333,
             "#000014"
            ],
            [
             0.4444444444444444,
             "#000015"
            ],
            [
             0.5555555555555556,
             "#000016"
            ],
            [
             0.6666666666666666,
             "#000017"
            ],
            [
             0.7777777777777778,
             "#000018"
            ],
            [
             0.8888888888888888,
             "#000019"
            ],
            [
             1,
             "#000020"
            ]
           ]
          },
          "colorway": [
           "#000001",
           "#000002",
           "#000003",
           "#000004",
           "#000005",
           "#000006",
           "#000007",
           "#000008",
           "#000009",
           "#000010"
          ]
         }
        },
        "title": {
         "text": "Top 10 Barrios por Viajes Promedio en Noviembre 2017"
        },
        "xaxis": {
         "anchor": "y",
         "domain": [
          0,
          1
         ],
         "title": {
          "text": "Viajes Promedio"
         }
        },
        "yaxis": {
         "anchor": "x",
         "categoryorder": "total ascending",
         "domain": [
          0,
          1
         ],
         "title": {
          "text": "Barrio"
         }
        }
       }
      }
     },
     "metadata": {},
     "output_type": "display_data"
    }
   ],
   "source": [
    "# Gráfica interactiva horizontal con plotly.express\n",
    "fig = px.bar(\n",
    "    top_10_barrios,\n",
    "    x='average_trips',\n",
    "    y='dropoff_location_name',\n",
    "    orientation='h',\n",
    "    title='Top 10 Barrios por Viajes Promedio en Noviembre 2017',\n",
    "    labels={'average_trips': 'Viajes Promedio', 'dropoff_location_name': 'Barrio'},\n",
    "    text='average_trips'\n",
    ")\n",
    "\n",
    "fig.update_traces(texttemplate='%{text:.2s}', textposition='outside')\n",
    "fig.update_layout(yaxis={'categoryorder': 'total ascending'})\n",
    "fig.show()"
   ]
  },
  {
   "cell_type": "markdown",
   "id": "b269d28b-ff9c-4fbf-b265-74fe6e38cad6",
   "metadata": {},
   "source": [
    "<div class=\"alert alert-block alert-success\"> <b>Comentario del revisor</b> <a class=\"tocSkip\"></a><br>\n",
    "\n",
    "Correcto!<br/>\n",
    "\n",
    "Buena manera de crear una grafica que nos muestra los lugares más frecuentados\n",
    "</div>"
   ]
  },
  {
   "cell_type": "markdown",
   "id": "48d6d6d8",
   "metadata": {},
   "source": [
    "1. #### Conclusiones de empresas de taxis\n",
    "Las empresas de taxis con mayor actividad concentraron un número significativamente alto de viajes entre el 15 y 16 de noviembre de 2017.\n",
    "Algunas compañías independientes (\"Other\") también aparecen, lo que sugiere una alta fragmentación del servicio.\n",
    "\n",
    "2. #### Conclusiones del gráfico de barrios.\n",
    "Los viajes terminan con mayor frecuencia en zonas con alta actividad comercial o turística.\n",
    "\"Loop\", el centro financiero de Chicago, encabeza la lista, seguido de zonas con estaciones o aeropuertos.\n",
    "La diferencia entre los primeros barrios y los últimos del top 10 es notable, lo cual apunta a zonas preferidas.\n",
    "#### 📊 Gráfico Explicativo Interactivo\n",
    "Este gráfico mostrará ambos conjuntos de datos en uno solo para ilustrar la relación entre compañías de taxis y los\n",
    "destinos más frecuentes. Haremos un gráfico de dos subplots interactivos con Plotly."
   ]
  },
  {
   "cell_type": "code",
   "execution_count": 9,
   "id": "4ecf784f",
   "metadata": {},
   "outputs": [
    {
     "data": {
      "application/vnd.plotly.v1+json": {
       "config": {
        "plotlyServerURL": "https://plot.ly"
       },
       "data": [
        {
         "marker": {
          "color": "indigo"
         },
         "name": "Empresas de Taxis",
         "orientation": "h",
         "text": {
          "bdata": "AAAAAIAZ00AAAAAAAE/GQAAAAACAP8RAAAAAAABQw0AAAAAAgCnCQAAAAACA7sFAAAAAAACAwEAAAAAAABW+QAAAAAAAH71AAAAAAABBt0A=",
          "dtype": "f8"
         },
         "textposition": "inside",
         "type": "bar",
         "x": {
          "bdata": "ZkyeLH8ooCZTJN0jACEVHh8dQRc=",
          "dtype": "i2"
         },
         "xaxis": "x",
         "y": [
          "Flash Cab",
          "Taxi Affiliation Services",
          "Medallion Leasin",
          "Yellow Cab",
          "Taxi Affiliation Service Yellow",
          "Chicago Carriage Cab Corp",
          "City Service",
          "Sun Taxi",
          "Star North Management LLC",
          "Blue Ribbon Taxi Association Inc."
         ],
         "yaxis": "y"
        },
        {
         "marker": {
          "color": "seagreen"
         },
         "name": "Barrios de Destino",
         "orientation": "h",
         "text": {
          "bdata": "AAAAAMDzxECamZmZ2ZnCQDMzMzOzCLpAMzMzM7MrtEDNzMzMzOWjQAAAAAAA6qJAAAAAAAApoEAAAAAAAJiXQM3MzMzMUJVAMzMzMzOvk0A=",
          "dtype": "f8"
         },
         "textposition": "outside",
         "type": "bar",
         "x": {
          "bdata": "AAAAAMDzxECamZmZ2ZnCQDMzMzOzCLpAMzMzM7MrtEDNzMzMzOWjQAAAAAAA6qJAAAAAAAApoEAAAAAAAJiXQM3MzMzMUJVAMzMzMzOvk0A=",
          "dtype": "f8"
         },
         "xaxis": "x2",
         "y": [
          "Loop",
          "River North",
          "Streeterville",
          "West Loop",
          "O'Hare",
          "Lake View",
          "Grant Park",
          "Museum Campus",
          "Gold Coast",
          "Sheffield & DePaul"
         ],
         "yaxis": "y2"
        }
       ],
       "layout": {
        "annotations": [
         {
          "font": {
           "size": 16
          },
          "showarrow": false,
          "text": "Top 10 Empresas de Taxis (15-16 Nov)",
          "x": 0.225,
          "xanchor": "center",
          "xref": "paper",
          "y": 1,
          "yanchor": "bottom",
          "yref": "paper"
         },
         {
          "font": {
           "size": 16
          },
          "showarrow": false,
          "text": "Top 10 Barrios por Viajes Promedio (Nov 2017)",
          "x": 0.775,
          "xanchor": "center",
          "xref": "paper",
          "y": 1,
          "yanchor": "bottom",
          "yref": "paper"
         }
        ],
        "height": 600,
        "showlegend": false,
        "template": {
         "data": {
          "candlestick": [
           {
            "decreasing": {
             "line": {
              "color": "#000033"
             }
            },
            "increasing": {
             "line": {
              "color": "#000032"
             }
            },
            "type": "candlestick"
           }
          ],
          "contour": [
           {
            "colorscale": [
             [
              0,
              "#000011"
             ],
             [
              0.1111111111111111,
              "#000012"
             ],
             [
              0.2222222222222222,
              "#000013"
             ],
             [
              0.3333333333333333,
              "#000014"
             ],
             [
              0.4444444444444444,
              "#000015"
             ],
             [
              0.5555555555555556,
              "#000016"
             ],
             [
              0.6666666666666666,
              "#000017"
             ],
             [
              0.7777777777777778,
              "#000018"
             ],
             [
              0.8888888888888888,
              "#000019"
             ],
             [
              1,
              "#000020"
             ]
            ],
            "type": "contour"
           }
          ],
          "contourcarpet": [
           {
            "colorscale": [
             [
              0,
              "#000011"
             ],
             [
              0.1111111111111111,
              "#000012"
             ],
             [
              0.2222222222222222,
              "#000013"
             ],
             [
              0.3333333333333333,
              "#000014"
             ],
             [
              0.4444444444444444,
              "#000015"
             ],
             [
              0.5555555555555556,
              "#000016"
             ],
             [
              0.6666666666666666,
              "#000017"
             ],
             [
              0.7777777777777778,
              "#000018"
             ],
             [
              0.8888888888888888,
              "#000019"
             ],
             [
              1,
              "#000020"
             ]
            ],
            "type": "contourcarpet"
           }
          ],
          "heatmap": [
           {
            "colorscale": [
             [
              0,
              "#000011"
             ],
             [
              0.1111111111111111,
              "#000012"
             ],
             [
              0.2222222222222222,
              "#000013"
             ],
             [
              0.3333333333333333,
              "#000014"
             ],
             [
              0.4444444444444444,
              "#000015"
             ],
             [
              0.5555555555555556,
              "#000016"
             ],
             [
              0.6666666666666666,
              "#000017"
             ],
             [
              0.7777777777777778,
              "#000018"
             ],
             [
              0.8888888888888888,
              "#000019"
             ],
             [
              1,
              "#000020"
             ]
            ],
            "type": "heatmap"
           }
          ],
          "histogram2d": [
           {
            "colorscale": [
             [
              0,
              "#000011"
             ],
             [
              0.1111111111111111,
              "#000012"
             ],
             [
              0.2222222222222222,
              "#000013"
             ],
             [
              0.3333333333333333,
              "#000014"
             ],
             [
              0.4444444444444444,
              "#000015"
             ],
             [
              0.5555555555555556,
              "#000016"
             ],
             [
              0.6666666666666666,
              "#000017"
             ],
             [
              0.7777777777777778,
              "#000018"
             ],
             [
              0.8888888888888888,
              "#000019"
             ],
             [
              1,
              "#000020"
             ]
            ],
            "type": "histogram2d"
           }
          ],
          "icicle": [
           {
            "textfont": {
             "color": "white"
            },
            "type": "icicle"
           }
          ],
          "sankey": [
           {
            "textfont": {
             "color": "#000036"
            },
            "type": "sankey"
           }
          ],
          "scatter": [
           {
            "marker": {
             "line": {
              "width": 0
             }
            },
            "type": "scatter"
           }
          ],
          "table": [
           {
            "cells": {
             "fill": {
              "color": "#000038"
             },
             "font": {
              "color": "#000037"
             },
             "line": {
              "color": "#000039"
             }
            },
            "header": {
             "fill": {
              "color": "#000040"
             },
             "font": {
              "color": "#000036"
             },
             "line": {
              "color": "#000039"
             }
            },
            "type": "table"
           }
          ],
          "waterfall": [
           {
            "connector": {
             "line": {
              "color": "#000036",
              "width": 2
             }
            },
            "decreasing": {
             "marker": {
              "color": "#000033"
             }
            },
            "increasing": {
             "marker": {
              "color": "#000032"
             }
            },
            "totals": {
             "marker": {
              "color": "#000034"
             }
            },
            "type": "waterfall"
           }
          ]
         },
         "layout": {
          "coloraxis": {
           "colorscale": [
            [
             0,
             "#000011"
            ],
            [
             0.1111111111111111,
             "#000012"
            ],
            [
             0.2222222222222222,
             "#000013"
            ],
            [
             0.3333333333333333,
             "#000014"
            ],
            [
             0.4444444444444444,
             "#000015"
            ],
            [
             0.5555555555555556,
             "#000016"
            ],
            [
             0.6666666666666666,
             "#000017"
            ],
            [
             0.7777777777777778,
             "#000018"
            ],
            [
             0.8888888888888888,
             "#000019"
            ],
            [
             1,
             "#000020"
            ]
           ]
          },
          "colorscale": {
           "diverging": [
            [
             0,
             "#000021"
            ],
            [
             0.1,
             "#000022"
            ],
            [
             0.2,
             "#000023"
            ],
            [
             0.3,
             "#000024"
            ],
            [
             0.4,
             "#000025"
            ],
            [
             0.5,
             "#000026"
            ],
            [
             0.6,
             "#000027"
            ],
            [
             0.7,
             "#000028"
            ],
            [
             0.8,
             "#000029"
            ],
            [
             0.9,
             "#000030"
            ],
            [
             1,
             "#000031"
            ]
           ],
           "sequential": [
            [
             0,
             "#000011"
            ],
            [
             0.1111111111111111,
             "#000012"
            ],
            [
             0.2222222222222222,
             "#000013"
            ],
            [
             0.3333333333333333,
             "#000014"
            ],
            [
             0.4444444444444444,
             "#000015"
            ],
            [
             0.5555555555555556,
             "#000016"
            ],
            [
             0.6666666666666666,
             "#000017"
            ],
            [
             0.7777777777777778,
             "#000018"
            ],
            [
             0.8888888888888888,
             "#000019"
            ],
            [
             1,
             "#000020"
            ]
           ],
           "sequentialminus": [
            [
             0,
             "#000011"
            ],
            [
             0.1111111111111111,
             "#000012"
            ],
            [
             0.2222222222222222,
             "#000013"
            ],
            [
             0.3333333333333333,
             "#000014"
            ],
            [
             0.4444444444444444,
             "#000015"
            ],
            [
             0.5555555555555556,
             "#000016"
            ],
            [
             0.6666666666666666,
             "#000017"
            ],
            [
             0.7777777777777778,
             "#000018"
            ],
            [
             0.8888888888888888,
             "#000019"
            ],
            [
             1,
             "#000020"
            ]
           ]
          },
          "colorway": [
           "#000001",
           "#000002",
           "#000003",
           "#000004",
           "#000005",
           "#000006",
           "#000007",
           "#000008",
           "#000009",
           "#000010"
          ]
         }
        },
        "title": {
         "text": "Resumen Visual: Empresas y Barrios con Mayor Actividad de Taxis",
         "x": 0.5
        },
        "width": 1000,
        "xaxis": {
         "anchor": "y",
         "domain": [
          0,
          0.45
         ],
         "range": [
          0,
          20000
         ]
        },
        "xaxis2": {
         "anchor": "y2",
         "domain": [
          0.55,
          1
         ],
         "range": [
          0,
          20000
         ]
        },
        "yaxis": {
         "anchor": "x",
         "autorange": "reversed",
         "domain": [
          0,
          1
         ]
        },
        "yaxis2": {
         "anchor": "x2",
         "autorange": "reversed",
         "domain": [
          0,
          1
         ]
        }
       }
      }
     },
     "metadata": {},
     "output_type": "display_data"
    }
   ],
   "source": [
    "import plotly.graph_objects as go\n",
    "from plotly.subplots import make_subplots\n",
    "\n",
    "# Crear figura con 2 subplots horizontales\n",
    "fig = make_subplots(\n",
    "    rows=1, cols=2,\n",
    "    subplot_titles=(\n",
    "        'Top 10 Empresas de Taxis (15-16 Nov)',\n",
    "        'Top 10 Barrios por Viajes Promedio (Nov 2017)'\n",
    "    ),\n",
    "    shared_yaxes=False\n",
    ")\n",
    "\n",
    "# Subplot 1: Empresas de taxis\n",
    "fig.add_trace(\n",
    "    go.Bar(\n",
    "        x=top_10_empresas['trips_amount'],\n",
    "        y=top_10_empresas['company_name'],\n",
    "        orientation='h',\n",
    "        name='Empresas de Taxis',\n",
    "        marker=dict(color='indigo'),\n",
    "        text=top_10_empresas['trips_amount'],\n",
    "        textposition='inside'\n",
    "    ),\n",
    "    row=1, col=1\n",
    ")\n",
    "\n",
    "# Subplot 2: Barrios\n",
    "fig.add_trace(\n",
    "    go.Bar(\n",
    "        x=top_10_barrios['average_trips'],\n",
    "        y=top_10_barrios['dropoff_location_name'],\n",
    "        orientation='h',\n",
    "        name='Barrios de Destino',\n",
    "        marker=dict(color='seagreen'),\n",
    "        text=top_10_barrios['average_trips'].round(1), # Redondear average_trips a 1 decimales solo para visualización\n",
    "        textposition='outside'\n",
    "    ),\n",
    "    row=1, col=2\n",
    ")\n",
    "\n",
    "# Layout general\n",
    "fig.update_layout(\n",
    "    height=600, width=1000,\n",
    "    title_text='Resumen Visual: Empresas y Barrios con Mayor Actividad de Taxis',\n",
    "    title_x=0.5,  # Centers the title horizontally (0.5 = middle)\n",
    "    showlegend=False,\n",
    ")\n",
    "\n",
    "# Set the same x-axis range for both subplots (0 to 20,000)\n",
    "fig.update_xaxes(range=[0, 20000])\n",
    "\n",
    "fig.update_yaxes(autorange=\"reversed\")  # Para que los valores más altos estén arriba\n",
    "fig.show(title_x=0.5,) # Centers the title horizontally (0.5 = middle)\n"
   ]
  },
  {
   "cell_type": "markdown",
   "id": "ec57d3b3",
   "metadata": {},
   "source": [
    "### Paso 2: Prueba de Hipótesis (Python)"
   ]
  },
  {
   "cell_type": "markdown",
   "id": "276d918f-4c2e-4c5b-b0e0-c5060ca93841",
   "metadata": {},
   "source": [
    "### Formulación de hipótesis\n",
    "Hipótesis nula (H₀): La duración promedio de los viajes los sábados lluviosos es igual a la de los sábados no lluviosos.\n",
    "Hipótesis alternativa (H₁): La duración promedio de los viajes los sábados lluviosos es diferente a la de los sábados no lluviosos.\n",
    "Nivel de significancia elegido: 0.05 (5%)\n",
    "Se usará una prueba de hipótesis para dos muestras independientes (Mann-Whitney U o t-test, según normalidad).\n",
    "\"\"\""
   ]
  },
  {
   "cell_type": "markdown",
   "id": "7519c294",
   "metadata": {},
   "source": [
    "### 2.1: Cargar los datos del archivo CSV"
   ]
  },
  {
   "cell_type": "code",
   "execution_count": 10,
   "id": "74471219",
   "metadata": {},
   "outputs": [],
   "source": [
    "df_weather_conditions     = pd.read_csv(\"moved_project_sql_result_07.csv\")"
   ]
  },
  {
   "cell_type": "code",
   "execution_count": 11,
   "id": "108d9050",
   "metadata": {},
   "outputs": [
    {
     "name": "stdout",
     "output_type": "stream",
     "text": [
      "\n",
      "Tipos de datos actualizados de df_company:\n",
      "company_name    object\n",
      "trips_amount     int64\n",
      "dtype: object\n",
      "\n",
      "Tipos de datos actualizados de df_dropoff_location_name:\n",
      "dropoff_location_name     object\n",
      "average_trips            float64\n",
      "dtype: object\n",
      "\n",
      "Valores nulos en df_company:\n",
      "company_name    0\n",
      "trips_amount    0\n",
      "dtype: int64\n",
      "\n",
      "Valores nulos en df_dropoff_location_name:\n"
     ]
    }
   ],
   "source": [
    "# Asegurarse de que los tipos de datos sean correctos\n",
    "\n",
    "# Convertir trips_amount a numérico si no lo es\n",
    "if df_company['trips_amount'].dtype == 'object':\n",
    "    df_company['trips_amount'] = pd.to_numeric(df_company['trips_amount'], errors='coerce')\n",
    "\n",
    "# Convertir average_trips a numérico si no lo es\n",
    "if df_dropoff_location_name['average_trips'].dtype == 'object':\n",
    "    df_dropoff_location_name['average_trips'] = pd.to_numeric(df_dropoff_location_name['average_trips'], errors='coerce')\n",
    "\n",
    "# Verificar los tipos de datos después de la conversión\n",
    "print(\"\\nTipos de datos actualizados de df_company:\")\n",
    "print(df_company.dtypes)\n",
    "\n",
    "print(\"\\nTipos de datos actualizados de df_dropoff_location_name:\")\n",
    "print(df_dropoff_location_name.dtypes)\n",
    "# Verificar si hay valores nulos en las columnas relevantes\n",
    "print(\"\\nValores nulos en df_company:\") \n",
    "print(df_company.isnull().sum())\n",
    "print(\"\\nValores nulos en df_dropoff_location_name:\")\n"
   ]
  },
  {
   "cell_type": "markdown",
   "id": "0115bf76",
   "metadata": {},
   "source": [
    "### 2.2 Preparar los datos para la prueba de hipótesis: Convertimos la columna start_ts a tipo datetime.Filtramos los registros que ocurrieron en sábado."
   ]
  },
  {
   "cell_type": "code",
   "execution_count": 12,
   "id": "bf09cf47",
   "metadata": {},
   "outputs": [
    {
     "name": "stdout",
     "output_type": "stream",
     "text": [
      "Condiciones climáticas encontradas los sábados:\n",
      "['Good' 'Bad']\n",
      "Cantidad de viajes sábados con mal clima: 180\n",
      "Cantidad de viajes sábados con buen clima: 888\n"
     ]
    }
   ],
   "source": [
    "# 1. Convert start_ts to Datetime\n",
    "df_weather_conditions['start_ts'] = pd.to_datetime(df_weather_conditions['start_ts'])\n",
    "# 2. Filter Trips on Saturdays\n",
    "df_sabado = df_weather_conditions[df_weather_conditions['start_ts'].dt.dayofweek == 5]\n",
    "# 3. Check Unique Weather Conditions\n",
    "print(\"Condiciones climáticas encontradas los sábados:\")\n",
    "print(df_sabado['weather_conditions'].unique())\n",
    "# 4. Filtrar sábados con mal clima (posiblemente lluvia)\n",
    "lluvioso = df_sabado[df_sabado['weather_conditions'] == 'Bad']['duration_seconds']\n",
    "\n",
    "# 5. Filtrar sábados con buen clima (sin lluvia)\n",
    "no_llu = df_sabado[df_sabado['weather_conditions'] == 'Good']['duration_seconds']\n",
    "\n",
    "# 6. Verificar el tamaño de las muestras\n",
    "print(f\"Cantidad de viajes sábados con mal clima: {len(lluvioso)}\")\n",
    "print(f\"Cantidad de viajes sábados con buen clima: {len(no_llu)}\")\n"
   ]
  },
  {
   "cell_type": "markdown",
   "id": "bc5a4862-3087-4810-9463-e449723fac64",
   "metadata": {},
   "source": [
    "<div class=\"alert alert-block alert-success\">\n",
    "<b>Comentario del revisor</b> <a class=\"tocSkip\"></a><br />\n",
    "Corregido!\n",
    "</div>\n"
   ]
  },
  {
   "cell_type": "markdown",
   "id": "3ee4a66b-d365-49d3-8ecf-c51c80cdbb1d",
   "metadata": {},
   "source": [
    "<div class=\"alert alert-block alert-danger\"> <b>Comentario del revisor</b> <a class=\"tocSkip\"></a><br>\n",
    "\n",
    "Cuidado!<br/>\n",
    "\n",
    "El filtro que utilizas es incorrecto ya que la columna `weather_conditions` solo contiene los valores `Good` o `Bad`, se debe cambiar el uso de `rain` como valor en el filtro\n",
    "</div>"
   ]
  },
  {
   "cell_type": "code",
   "execution_count": 13,
   "id": "5bb6d4a7-7308-4b34-a897-8f161140a64e",
   "metadata": {},
   "outputs": [
    {
     "data": {
      "text/plain": [
       "array(['Good', 'Bad'], dtype=object)"
      ]
     },
     "execution_count": 13,
     "metadata": {},
     "output_type": "execute_result"
    }
   ],
   "source": [
    "# Código del revisor\n",
    "df_sabado['weather_conditions'].unique()"
   ]
  },
  {
   "cell_type": "markdown",
   "id": "8cd8024f-7f97-471f-96b8-6390ae234e31",
   "metadata": {},
   "source": [
    "<div class=\"alert alert-block alert-info\">\n",
    "<b>Respuesta del estudiante.: gracias por la revision.  </b> <a class=\"tocSkip\"></a>\n",
    "</div>"
   ]
  },
  {
   "cell_type": "markdown",
   "id": "5efb7be4",
   "metadata": {},
   "source": [
    "### 2.3 Preparar los datos para la prueba de hipótesis: Código para pruebas estadísticas (Shapiro + Mann-Whitney U + t-test )"
   ]
  },
  {
   "cell_type": "code",
   "execution_count": 14,
   "id": "ef80004c",
   "metadata": {},
   "outputs": [
    {
     "name": "stdout",
     "output_type": "stream",
     "text": [
      "Shapiro-Wilk Test:\n",
      "Sábados con mal clima: p-valor = 0.0036\n",
      "Sábados con buen clima: p-valor = 0.0000\n",
      "\n",
      "Prueba utilizada: Mann-Whitney U\n",
      "Estadístico: 108193.5000, p-valor: 0.0000\n",
      "Resultado: Rechazamos la hipótesis nula — La duración promedio SÍ cambia los sábados con mal clima.\n"
     ]
    }
   ],
   "source": [
    "# Comparación de medias y prueba de hipótesis\n",
    "\n",
    "from scipy.stats import shapiro, mannwhitneyu, ttest_ind\n",
    "\n",
    "# 1. Prueba de normalidad (Shapiro-Wilk)\n",
    "stat_lluvioso, p_lluvioso = shapiro(lluvioso)\n",
    "stat_no_llu, p_no_llu = shapiro(no_llu)\n",
    "\n",
    "print(\"Shapiro-Wilk Test:\")\n",
    "print(f\"Sábados con mal clima: p-valor = {p_lluvioso:.4f}\")\n",
    "print(f\"Sábados con buen clima: p-valor = {p_no_llu:.4f}\")\n",
    "\n",
    "# Evaluar normalidad\n",
    "normal_lluvioso = p_lluvioso > 0.05\n",
    "normal_no_llu = p_no_llu > 0.05\n",
    "\n",
    "# 2. Prueba de hipótesis: según normalidad\n",
    "alpha = 0.05\n",
    "\n",
    "if normal_lluvioso and normal_no_llu:\n",
    "    # Ambas distribuciones son normales: usar t-test\n",
    "    stat, p_value = ttest_ind(lluvioso, no_llu, equal_var=False)\n",
    "    test_name = \"t-test para muestras independientes\"\n",
    "else:\n",
    "    # Al menos una no es normal: usar Mann-Whitney U\n",
    "    stat, p_value = mannwhitneyu(lluvioso, no_llu, alternative='two-sided')\n",
    "    test_name = \"Mann-Whitney U\"\n",
    "\n",
    "# 3. Mostrar resultados\n",
    "print(f\"\\nPrueba utilizada: {test_name}\")\n",
    "print(f\"Estadístico: {stat:.4f}, p-valor: {p_value:.4f}\")\n",
    "\n",
    "if p_value < alpha:\n",
    "    print(\"Resultado: Rechazamos la hipótesis nula — La duración promedio SÍ cambia los sábados con mal clima.\")\n",
    "else:\n",
    "    print(\"Resultado: No se puede rechazar la hipótesis nula — No hay evidencia suficiente de un cambio en la duración promedio.\")\n"
   ]
  },
  {
   "cell_type": "markdown",
   "id": "96287e1c-5ff4-4781-b77a-c6cc23b14063",
   "metadata": {},
   "source": [
    "<div class=\"alert alert-block alert-success\"> <b>Comentario del revisor</b> <a class=\"tocSkip\"></a><br>\n",
    "\n",
    "Bien hecho!<br/>\n",
    "\n",
    "Es correcto rechazar la hipotesis nula, debido a que sí hay notables cambios entre un día de buenas condiciones y uno con malas condiciones\n",
    "</div>"
   ]
  },
  {
   "cell_type": "markdown",
   "id": "bfb1406c-9a15-4202-9d14-cdf64b907d1b",
   "metadata": {},
   "source": [
    "### 3: Gráfico de comparación de duración de viajes los sábados, buen clima (sin llover) vs mal clima (si llueve)"
   ]
  },
  {
   "cell_type": "code",
   "execution_count": 15,
   "id": "a30c4c59-5045-4b72-b47a-b69ed82d4a60",
   "metadata": {},
   "outputs": [
    {
     "data": {
      "application/vnd.plotly.v1+json": {
       "config": {
        "plotlyServerURL": "https://plot.ly"
       },
       "data": [
        {
         "alignmentgroup": "True",
         "boxpoints": "all",
         "hovertemplate": "Condición Climática=%{x}<br>Duración del Viaje (segundos)=%{y}<extra></extra>",
         "legendgroup": "Mal Clima",
         "marker": {
          "color": "red"
         },
         "name": "Mal Clima",
         "notched": false,
         "offsetgroup": "Mal Clima",
         "orientation": "v",
         "showlegend": true,
         "type": "box",
         "x": [
          "Mal Clima",
          "Mal Clima",
          "Mal Clima",
          "Mal Clima",
          "Mal Clima",
          "Mal Clima",
          "Mal Clima",
          "Mal Clima",
          "Mal Clima",
          "Mal Clima",
          "Mal Clima",
          "Mal Clima",
          "Mal Clima",
          "Mal Clima",
          "Mal Clima",
          "Mal Clima",
          "Mal Clima",
          "Mal Clima",
          "Mal Clima",
          "Mal Clima",
          "Mal Clima",
          "Mal Clima",
          "Mal Clima",
          "Mal Clima",
          "Mal Clima",
          "Mal Clima",
          "Mal Clima",
          "Mal Clima",
          "Mal Clima",
          "Mal Clima",
          "Mal Clima",
          "Mal Clima",
          "Mal Clima",
          "Mal Clima",
          "Mal Clima",
          "Mal Clima",
          "Mal Clima",
          "Mal Clima",
          "Mal Clima",
          "Mal Clima",
          "Mal Clima",
          "Mal Clima",
          "Mal Clima",
          "Mal Clima",
          "Mal Clima",
          "Mal Clima",
          "Mal Clima",
          "Mal Clima",
          "Mal Clima",
          "Mal Clima",
          "Mal Clima",
          "Mal Clima",
          "Mal Clima",
          "Mal Clima",
          "Mal Clima",
          "Mal Clima",
          "Mal Clima",
          "Mal Clima",
          "Mal Clima",
          "Mal Clima",
          "Mal Clima",
          "Mal Clima",
          "Mal Clima",
          "Mal Clima",
          "Mal Clima",
          "Mal Clima",
          "Mal Clima",
          "Mal Clima",
          "Mal Clima",
          "Mal Clima",
          "Mal Clima",
          "Mal Clima",
          "Mal Clima",
          "Mal Clima",
          "Mal Clima",
          "Mal Clima",
          "Mal Clima",
          "Mal Clima",
          "Mal Clima",
          "Mal Clima",
          "Mal Clima",
          "Mal Clima",
          "Mal Clima",
          "Mal Clima",
          "Mal Clima",
          "Mal Clima",
          "Mal Clima",
          "Mal Clima",
          "Mal Clima",
          "Mal Clima",
          "Mal Clima",
          "Mal Clima",
          "Mal Clima",
          "Mal Clima",
          "Mal Clima",
          "Mal Clima",
          "Mal Clima",
          "Mal Clima",
          "Mal Clima",
          "Mal Clima",
          "Mal Clima",
          "Mal Clima",
          "Mal Clima",
          "Mal Clima",
          "Mal Clima",
          "Mal Clima",
          "Mal Clima",
          "Mal Clima",
          "Mal Clima",
          "Mal Clima",
          "Mal Clima",
          "Mal Clima",
          "Mal Clima",
          "Mal Clima",
          "Mal Clima",
          "Mal Clima",
          "Mal Clima",
          "Mal Clima",
          "Mal Clima",
          "Mal Clima",
          "Mal Clima",
          "Mal Clima",
          "Mal Clima",
          "Mal Clima",
          "Mal Clima",
          "Mal Clima",
          "Mal Clima",
          "Mal Clima",
          "Mal Clima",
          "Mal Clima",
          "Mal Clima",
          "Mal Clima",
          "Mal Clima",
          "Mal Clima",
          "Mal Clima",
          "Mal Clima",
          "Mal Clima",
          "Mal Clima",
          "Mal Clima",
          "Mal Clima",
          "Mal Clima",
          "Mal Clima",
          "Mal Clima",
          "Mal Clima",
          "Mal Clima",
          "Mal Clima",
          "Mal Clima",
          "Mal Clima",
          "Mal Clima",
          "Mal Clima",
          "Mal Clima",
          "Mal Clima",
          "Mal Clima",
          "Mal Clima",
          "Mal Clima",
          "Mal Clima",
          "Mal Clima",
          "Mal Clima",
          "Mal Clima",
          "Mal Clima",
          "Mal Clima",
          "Mal Clima",
          "Mal Clima",
          "Mal Clima",
          "Mal Clima",
          "Mal Clima",
          "Mal Clima",
          "Mal Clima",
          "Mal Clima",
          "Mal Clima",
          "Mal Clima",
          "Mal Clima",
          "Mal Clima",
          "Mal Clima",
          "Mal Clima",
          "Mal Clima",
          "Mal Clima",
          "Mal Clima",
          "Mal Clima",
          "Mal Clima"
         ],
         "x0": " ",
         "xaxis": "x",
         "y": {
          "bdata": "AAAAAAAyp0AAAAAAAPCeQAAAAAAAOKNAAAAAAACQpUAAAAAAADijQAAAAAAAgJZAAAAAAAB2okAAAAAAAHCnQAAAAAAAYKhAAAAAAACcl0AAAAAAAPCeQAAAAAAAoJRAAAAAAACYr0AAAAAAALylQAAAAAAAoKdAAAAAAADIqUAAAAAAANioQAAAAAAADqBAAAAAAACwk0AAAAAAAPimQAAAAAAASKJAAAAAAABYoUAAAAAAAHSoQAAAAAAA7KZAAAAAAACMqUAAAAAAAHCXQAAAAAAAgJZAAAAAAAAWpEAAAAAAAAB+QAAAAAAAKKRAAAAAAABooEAAAAAAAFiVQAAAAAAAYJhAAAAAAAAopEAAAAAAAPCVQAAAAAAA9qVAAAAAAACkp0AAAAAAAHyqQAAAAAAAoKRAAAAAAAD4pkAAAAAAABilQAAAAAAAdLNAAAAAAACeoUAAAAAAAHikQAAAAAAAoKRAAAAAAABKp0AAAAAAAFihQAAAAAAAZqdAAAAAAADqqUAAAAAAAICmQAAAAAAAgJZAAAAAAACApkAAAAAAAHSkQAAAAAAACKZAAAAAAAAIpkAAAAAAAECaQAAAAAAAoKRAAAAAAABwp0AAAAAAACiZQAAAAAAAMJtAAAAAAAColEAAAAAAAJymQAAAAAAASKJAAAAAAAA0o0AAAAAAALiqQAAAAAAAYJhAAAAAAAAIpkAAAAAAAOiYQAAAAAAAGKVAAAAAAAAwq0AAAAAAAOCfQAAAAAAAQJpAAAAAAACApkAAAAAAANChQAAAAAAAMKtAAAAAAAD4pkAAAAAAAJClQAAAAAAAsJNAAAAAAADgn0AAAAAAADijQAAAAAAAKKRAAAAAAABwl0AAAAAAADCbQAAAAAAAWKFAAAAAAACqoEAAAAAAAFCpQAAAAAAACqtAAAAAAACSpUAAAAAAACikQAAAAAAA0KFAAAAAAACQlUAAAAAAANChQAAAAAAAKKRAAAAAAAA0okAAAAAAAFCZQAAAAAAAKKRAAAAAAABcpEAAAAAAANioQAAAAAAAsJNAAAAAAABwp0AAAAAAAMipQAAAAAAAqKtAAAAAAADAkkAAAAAAAHqmQAAAAAAAIJlAAAAAAAA4okAAAAAAADqiQAAAAAAASKJAAAAAAAAYpUAAAAAAAJynQAAAAAAAKKRAAAAAAACapUAAAAAAAOSnQAAAAAAAzqBAAAAAAADOoEAAAAAAALiqQAAAAAAA+KBAAAAAAACgpEAAAAAAAKCkQAAAAAAAJJZAAAAAAAD+oEAAAAAAAGCYQAAAAAAAIKxAAAAAAABgqEAAAAAAAEiiQAAAAAAAeJJAAAAAAADQlEAAAAAAANioQAAAAAAAWKFAAAAAAAC4qkAAAAAAAAimQAAAAAAAkKVAAAAAAACwk0AAAAAAALiWQAAAAAAAUJtAAAAAAADQoUAAAAAAAIatQAAAAAAA6KdAAAAAAABGoEAAAAAAAFCjQAAAAAAAKKRAAAAAAABGo0AAAAAAAAimQAAAAAAArqZAAAAAAADYqEAAAAAAALCjQAAAAAAAhJRAAAAAAABgqEAAAAAAAAB+QAAAAAAAkKVAAAAAAABAqkAAAAAAAKCUQAAAAAAAZJdAAAAAAAAIpkAAAAAAADijQAAAAAAAEK1AAAAAAABwo0AAAAAAALiqQAAAAAAArKNAAAAAAABcl0AAAAAAAIyrQAAAAAAAvJtAAAAAAAB0mEAAAAAAAKigQAAAAAAAGKVAAAAAAADMlEAAAAAAAEiiQAAAAAAAUJlAAAAAAACsoEAAAAAAACikQAAAAAAASKJAAAAAAADAkkAAAAAAACyXQAAAAAAAUKlAAAAAAADcpkAAAAAAAACkQAAAAAAA0J1AAAAAAADAokAAAAAAABShQAAAAAAAJKZA",
          "dtype": "f8"
         },
         "y0": " ",
         "yaxis": "y"
        },
        {
         "alignmentgroup": "True",
         "boxpoints": "all",
         "hovertemplate": "Condición Climática=%{x}<br>Duración del Viaje (segundos)=%{y}<extra></extra>",
         "legendgroup": "Buen Clima",
         "marker": {
          "color": "blue"
         },
         "name": "Buen Clima",
         "notched": false,
         "offsetgroup": "Buen Clima",
         "orientation": "v",
         "showlegend": true,
         "type": "box",
         "x": [
          "Buen Clima",
          "Buen Clima",
          "Buen Clima",
          "Buen Clima",
          "Buen Clima",
          "Buen Clima",
          "Buen Clima",
          "Buen Clima",
          "Buen Clima",
          "Buen Clima",
          "Buen Clima",
          "Buen Clima",
          "Buen Clima",
          "Buen Clima",
          "Buen Clima",
          "Buen Clima",
          "Buen Clima",
          "Buen Clima",
          "Buen Clima",
          "Buen Clima",
          "Buen Clima",
          "Buen Clima",
          "Buen Clima",
          "Buen Clima",
          "Buen Clima",
          "Buen Clima",
          "Buen Clima",
          "Buen Clima",
          "Buen Clima",
          "Buen Clima",
          "Buen Clima",
          "Buen Clima",
          "Buen Clima",
          "Buen Clima",
          "Buen Clima",
          "Buen Clima",
          "Buen Clima",
          "Buen Clima",
          "Buen Clima",
          "Buen Clima",
          "Buen Clima",
          "Buen Clima",
          "Buen Clima",
          "Buen Clima",
          "Buen Clima",
          "Buen Clima",
          "Buen Clima",
          "Buen Clima",
          "Buen Clima",
          "Buen Clima",
          "Buen Clima",
          "Buen Clima",
          "Buen Clima",
          "Buen Clima",
          "Buen Clima",
          "Buen Clima",
          "Buen Clima",
          "Buen Clima",
          "Buen Clima",
          "Buen Clima",
          "Buen Clima",
          "Buen Clima",
          "Buen Clima",
          "Buen Clima",
          "Buen Clima",
          "Buen Clima",
          "Buen Clima",
          "Buen Clima",
          "Buen Clima",
          "Buen Clima",
          "Buen Clima",
          "Buen Clima",
          "Buen Clima",
          "Buen Clima",
          "Buen Clima",
          "Buen Clima",
          "Buen Clima",
          "Buen Clima",
          "Buen Clima",
          "Buen Clima",
          "Buen Clima",
          "Buen Clima",
          "Buen Clima",
          "Buen Clima",
          "Buen Clima",
          "Buen Clima",
          "Buen Clima",
          "Buen Clima",
          "Buen Clima",
          "Buen Clima",
          "Buen Clima",
          "Buen Clima",
          "Buen Clima",
          "Buen Clima",
          "Buen Clima",
          "Buen Clima",
          "Buen Clima",
          "Buen Clima",
          "Buen Clima",
          "Buen Clima",
          "Buen Clima",
          "Buen Clima",
          "Buen Clima",
          "Buen Clima",
          "Buen Clima",
          "Buen Clima",
          "Buen Clima",
          "Buen Clima",
          "Buen Clima",
          "Buen Clima",
          "Buen Clima",
          "Buen Clima",
          "Buen Clima",
          "Buen Clima",
          "Buen Clima",
          "Buen Clima",
          "Buen Clima",
          "Buen Clima",
          "Buen Clima",
          "Buen Clima",
          "Buen Clima",
          "Buen Clima",
          "Buen Clima",
          "Buen Clima",
          "Buen Clima",
          "Buen Clima",
          "Buen Clima",
          "Buen Clima",
          "Buen Clima",
          "Buen Clima",
          "Buen Clima",
          "Buen Clima",
          "Buen Clima",
          "Buen Clima",
          "Buen Clima",
          "Buen Clima",
          "Buen Clima",
          "Buen Clima",
          "Buen Clima",
          "Buen Clima",
          "Buen Clima",
          "Buen Clima",
          "Buen Clima",
          "Buen Clima",
          "Buen Clima",
          "Buen Clima",
          "Buen Clima",
          "Buen Clima",
          "Buen Clima",
          "Buen Clima",
          "Buen Clima",
          "Buen Clima",
          "Buen Clima",
          "Buen Clima",
          "Buen Clima",
          "Buen Clima",
          "Buen Clima",
          "Buen Clima",
          "Buen Clima",
          "Buen Clima",
          "Buen Clima",
          "Buen Clima",
          "Buen Clima",
          "Buen Clima",
          "Buen Clima",
          "Buen Clima",
          "Buen Clima",
          "Buen Clima",
          "Buen Clima",
          "Buen Clima",
          "Buen Clima",
          "Buen Clima",
          "Buen Clima",
          "Buen Clima",
          "Buen Clima",
          "Buen Clima",
          "Buen Clima",
          "Buen Clima",
          "Buen Clima",
          "Buen Clima",
          "Buen Clima",
          "Buen Clima",
          "Buen Clima",
          "Buen Clima",
          "Buen Clima",
          "Buen Clima",
          "Buen Clima",
          "Buen Clima",
          "Buen Clima",
          "Buen Clima",
          "Buen Clima",
          "Buen Clima",
          "Buen Clima",
          "Buen Clima",
          "Buen Clima",
          "Buen Clima",
          "Buen Clima",
          "Buen Clima",
          "Buen Clima",
          "Buen Clima",
          "Buen Clima",
          "Buen Clima",
          "Buen Clima",
          "Buen Clima",
          "Buen Clima",
          "Buen Clima",
          "Buen Clima",
          "Buen Clima",
          "Buen Clima",
          "Buen Clima",
          "Buen Clima",
          "Buen Clima",
          "Buen Clima",
          "Buen Clima",
          "Buen Clima",
          "Buen Clima",
          "Buen Clima",
          "Buen Clima",
          "Buen Clima",
          "Buen Clima",
          "Buen Clima",
          "Buen Clima",
          "Buen Clima",
          "Buen Clima",
          "Buen Clima",
          "Buen Clima",
          "Buen Clima",
          "Buen Clima",
          "Buen Clima",
          "Buen Clima",
          "Buen Clima",
          "Buen Clima",
          "Buen Clima",
          "Buen Clima",
          "Buen Clima",
          "Buen Clima",
          "Buen Clima",
          "Buen Clima",
          "Buen Clima",
          "Buen Clima",
          "Buen Clima",
          "Buen Clima",
          "Buen Clima",
          "Buen Clima",
          "Buen Clima",
          "Buen Clima",
          "Buen Clima",
          "Buen Clima",
          "Buen Clima",
          "Buen Clima",
          "Buen Clima",
          "Buen Clima",
          "Buen Clima",
          "Buen Clima",
          "Buen Clima",
          "Buen Clima",
          "Buen Clima",
          "Buen Clima",
          "Buen Clima",
          "Buen Clima",
          "Buen Clima",
          "Buen Clima",
          "Buen Clima",
          "Buen Clima",
          "Buen Clima",
          "Buen Clima",
          "Buen Clima",
          "Buen Clima",
          "Buen Clima",
          "Buen Clima",
          "Buen Clima",
          "Buen Clima",
          "Buen Clima",
          "Buen Clima",
          "Buen Clima",
          "Buen Clima",
          "Buen Clima",
          "Buen Clima",
          "Buen Clima",
          "Buen Clima",
          "Buen Clima",
          "Buen Clima",
          "Buen Clima",
          "Buen Clima",
          "Buen Clima",
          "Buen Clima",
          "Buen Clima",
          "Buen Clima",
          "Buen Clima",
          "Buen Clima",
          "Buen Clima",
          "Buen Clima",
          "Buen Clima",
          "Buen Clima",
          "Buen Clima",
          "Buen Clima",
          "Buen Clima",
          "Buen Clima",
          "Buen Clima",
          "Buen Clima",
          "Buen Clima",
          "Buen Clima",
          "Buen Clima",
          "Buen Clima",
          "Buen Clima",
          "Buen Clima",
          "Buen Clima",
          "Buen Clima",
          "Buen Clima",
          "Buen Clima",
          "Buen Clima",
          "Buen Clima",
          "Buen Clima",
          "Buen Clima",
          "Buen Clima",
          "Buen Clima",
          "Buen Clima",
          "Buen Clima",
          "Buen Clima",
          "Buen Clima",
          "Buen Clima",
          "Buen Clima",
          "Buen Clima",
          "Buen Clima",
          "Buen Clima",
          "Buen Clima",
          "Buen Clima",
          "Buen Clima",
          "Buen Clima",
          "Buen Clima",
          "Buen Clima",
          "Buen Clima",
          "Buen Clima",
          "Buen Clima",
          "Buen Clima",
          "Buen Clima",
          "Buen Clima",
          "Buen Clima",
          "Buen Clima",
          "Buen Clima",
          "Buen Clima",
          "Buen Clima",
          "Buen Clima",
          "Buen Clima",
          "Buen Clima",
          "Buen Clima",
          "Buen Clima",
          "Buen Clima",
          "Buen Clima",
          "Buen Clima",
          "Buen Clima",
          "Buen Clima",
          "Buen Clima",
          "Buen Clima",
          "Buen Clima",
          "Buen Clima",
          "Buen Clima",
          "Buen Clima",
          "Buen Clima",
          "Buen Clima",
          "Buen Clima",
          "Buen Clima",
          "Buen Clima",
          "Buen Clima",
          "Buen Clima",
          "Buen Clima",
          "Buen Clima",
          "Buen Clima",
          "Buen Clima",
          "Buen Clima",
          "Buen Clima",
          "Buen Clima",
          "Buen Clima",
          "Buen Clima",
          "Buen Clima",
          "Buen Clima",
          "Buen Clima",
          "Buen Clima",
          "Buen Clima",
          "Buen Clima",
          "Buen Clima",
          "Buen Clima",
          "Buen Clima",
          "Buen Clima",
          "Buen Clima",
          "Buen Clima",
          "Buen Clima",
          "Buen Clima",
          "Buen Clima",
          "Buen Clima",
          "Buen Clima",
          "Buen Clima",
          "Buen Clima",
          "Buen Clima",
          "Buen Clima",
          "Buen Clima",
          "Buen Clima",
          "Buen Clima",
          "Buen Clima",
          "Buen Clima",
          "Buen Clima",
          "Buen Clima",
          "Buen Clima",
          "Buen Clima",
          "Buen Clima",
          "Buen Clima",
          "Buen Clima",
          "Buen Clima",
          "Buen Clima",
          "Buen Clima",
          "Buen Clima",
          "Buen Clima",
          "Buen Clima",
          "Buen Clima",
          "Buen Clima",
          "Buen Clima",
          "Buen Clima",
          "Buen Clima",
          "Buen Clima",
          "Buen Clima",
          "Buen Clima",
          "Buen Clima",
          "Buen Clima",
          "Buen Clima",
          "Buen Clima",
          "Buen Clima",
          "Buen Clima",
          "Buen Clima",
          "Buen Clima",
          "Buen Clima",
          "Buen Clima",
          "Buen Clima",
          "Buen Clima",
          "Buen Clima",
          "Buen Clima",
          "Buen Clima",
          "Buen Clima",
          "Buen Clima",
          "Buen Clima",
          "Buen Clima",
          "Buen Clima",
          "Buen Clima",
          "Buen Clima",
          "Buen Clima",
          "Buen Clima",
          "Buen Clima",
          "Buen Clima",
          "Buen Clima",
          "Buen Clima",
          "Buen Clima",
          "Buen Clima",
          "Buen Clima",
          "Buen Clima",
          "Buen Clima",
          "Buen Clima",
          "Buen Clima",
          "Buen Clima",
          "Buen Clima",
          "Buen Clima",
          "Buen Clima",
          "Buen Clima",
          "Buen Clima",
          "Buen Clima",
          "Buen Clima",
          "Buen Clima",
          "Buen Clima",
          "Buen Clima",
          "Buen Clima",
          "Buen Clima",
          "Buen Clima",
          "Buen Clima",
          "Buen Clima",
          "Buen Clima",
          "Buen Clima",
          "Buen Clima",
          "Buen Clima",
          "Buen Clima",
          "Buen Clima",
          "Buen Clima",
          "Buen Clima",
          "Buen Clima",
          "Buen Clima",
          "Buen Clima",
          "Buen Clima",
          "Buen Clima",
          "Buen Clima",
          "Buen Clima",
          "Buen Clima",
          "Buen Clima",
          "Buen Clima",
          "Buen Clima",
          "Buen Clima",
          "Buen Clima",
          "Buen Clima",
          "Buen Clima",
          "Buen Clima",
          "Buen Clima",
          "Buen Clima",
          "Buen Clima",
          "Buen Clima",
          "Buen Clima",
          "Buen Clima",
          "Buen Clima",
          "Buen Clima",
          "Buen Clima",
          "Buen Clima",
          "Buen Clima",
          "Buen Clima",
          "Buen Clima",
          "Buen Clima",
          "Buen Clima",
          "Buen Clima",
          "Buen Clima",
          "Buen Clima",
          "Buen Clima",
          "Buen Clima",
          "Buen Clima",
          "Buen Clima",
          "Buen Clima",
          "Buen Clima",
          "Buen Clima",
          "Buen Clima",
          "Buen Clima",
          "Buen Clima",
          "Buen Clima",
          "Buen Clima",
          "Buen Clima",
          "Buen Clima",
          "Buen Clima",
          "Buen Clima",
          "Buen Clima",
          "Buen Clima",
          "Buen Clima",
          "Buen Clima",
          "Buen Clima",
          "Buen Clima",
          "Buen Clima",
          "Buen Clima",
          "Buen Clima",
          "Buen Clima",
          "Buen Clima",
          "Buen Clima",
          "Buen Clima",
          "Buen Clima",
          "Buen Clima",
          "Buen Clima",
          "Buen Clima",
          "Buen Clima",
          "Buen Clima",
          "Buen Clima",
          "Buen Clima",
          "Buen Clima",
          "Buen Clima",
          "Buen Clima",
          "Buen Clima",
          "Buen Clima",
          "Buen Clima",
          "Buen Clima",
          "Buen Clima",
          "Buen Clima",
          "Buen Clima",
          "Buen Clima",
          "Buen Clima",
          "Buen Clima",
          "Buen Clima",
          "Buen Clima",
          "Buen Clima",
          "Buen Clima",
          "Buen Clima",
          "Buen Clima",
          "Buen Clima",
          "Buen Clima",
          "Buen Clima",
          "Buen Clima",
          "Buen Clima",
          "Buen Clima",
          "Buen Clima",
          "Buen Clima",
          "Buen Clima",
          "Buen Clima",
          "Buen Clima",
          "Buen Clima",
          "Buen Clima",
          "Buen Clima",
          "Buen Clima",
          "Buen Clima",
          "Buen Clima",
          "Buen Clima",
          "Buen Clima",
          "Buen Clima",
          "Buen Clima",
          "Buen Clima",
          "Buen Clima",
          "Buen Clima",
          "Buen Clima",
          "Buen Clima",
          "Buen Clima",
          "Buen Clima",
          "Buen Clima",
          "Buen Clima",
          "Buen Clima",
          "Buen Clima",
          "Buen Clima",
          "Buen Clima",
          "Buen Clima",
          "Buen Clima",
          "Buen Clima",
          "Buen Clima",
          "Buen Clima",
          "Buen Clima",
          "Buen Clima",
          "Buen Clima",
          "Buen Clima",
          "Buen Clima",
          "Buen Clima",
          "Buen Clima",
          "Buen Clima",
          "Buen Clima",
          "Buen Clima",
          "Buen Clima",
          "Buen Clima",
          "Buen Clima",
          "Buen Clima",
          "Buen Clima",
          "Buen Clima",
          "Buen Clima",
          "Buen Clima",
          "Buen Clima",
          "Buen Clima",
          "Buen Clima",
          "Buen Clima",
          "Buen Clima",
          "Buen Clima",
          "Buen Clima",
          "Buen Clima",
          "Buen Clima",
          "Buen Clima",
          "Buen Clima",
          "Buen Clima",
          "Buen Clima",
          "Buen Clima",
          "Buen Clima",
          "Buen Clima",
          "Buen Clima",
          "Buen Clima",
          "Buen Clima",
          "Buen Clima",
          "Buen Clima",
          "Buen Clima",
          "Buen Clima",
          "Buen Clima",
          "Buen Clima",
          "Buen Clima",
          "Buen Clima",
          "Buen Clima",
          "Buen Clima",
          "Buen Clima",
          "Buen Clima",
          "Buen Clima",
          "Buen Clima",
          "Buen Clima",
          "Buen Clima",
          "Buen Clima",
          "Buen Clima",
          "Buen Clima",
          "Buen Clima",
          "Buen Clima",
          "Buen Clima",
          "Buen Clima",
          "Buen Clima",
          "Buen Clima",
          "Buen Clima",
          "Buen Clima",
          "Buen Clima",
          "Buen Clima",
          "Buen Clima",
          "Buen Clima",
          "Buen Clima",
          "Buen Clima",
          "Buen Clima",
          "Buen Clima",
          "Buen Clima",
          "Buen Clima",
          "Buen Clima",
          "Buen Clima",
          "Buen Clima",
          "Buen Clima",
          "Buen Clima",
          "Buen Clima",
          "Buen Clima",
          "Buen Clima",
          "Buen Clima",
          "Buen Clima",
          "Buen Clima",
          "Buen Clima",
          "Buen Clima",
          "Buen Clima",
          "Buen Clima",
          "Buen Clima",
          "Buen Clima",
          "Buen Clima",
          "Buen Clima",
          "Buen Clima",
          "Buen Clima",
          "Buen Clima",
          "Buen Clima",
          "Buen Clima",
          "Buen Clima",
          "Buen Clima",
          "Buen Clima",
          "Buen Clima",
          "Buen Clima",
          "Buen Clima",
          "Buen Clima",
          "Buen Clima",
          "Buen Clima",
          "Buen Clima",
          "Buen Clima",
          "Buen Clima",
          "Buen Clima",
          "Buen Clima",
          "Buen Clima",
          "Buen Clima",
          "Buen Clima",
          "Buen Clima",
          "Buen Clima",
          "Buen Clima",
          "Buen Clima",
          "Buen Clima",
          "Buen Clima",
          "Buen Clima",
          "Buen Clima",
          "Buen Clima",
          "Buen Clima",
          "Buen Clima",
          "Buen Clima",
          "Buen Clima",
          "Buen Clima",
          "Buen Clima",
          "Buen Clima",
          "Buen Clima",
          "Buen Clima",
          "Buen Clima",
          "Buen Clima",
          "Buen Clima",
          "Buen Clima",
          "Buen Clima",
          "Buen Clima",
          "Buen Clima",
          "Buen Clima",
          "Buen Clima",
          "Buen Clima",
          "Buen Clima",
          "Buen Clima",
          "Buen Clima",
          "Buen Clima",
          "Buen Clima",
          "Buen Clima",
          "Buen Clima",
          "Buen Clima",
          "Buen Clima",
          "Buen Clima",
          "Buen Clima",
          "Buen Clima",
          "Buen Clima",
          "Buen Clima",
          "Buen Clima",
          "Buen Clima",
          "Buen Clima",
          "Buen Clima",
          "Buen Clima",
          "Buen Clima",
          "Buen Clima",
          "Buen Clima",
          "Buen Clima",
          "Buen Clima",
          "Buen Clima",
          "Buen Clima",
          "Buen Clima",
          "Buen Clima",
          "Buen Clima",
          "Buen Clima",
          "Buen Clima",
          "Buen Clima",
          "Buen Clima",
          "Buen Clima",
          "Buen Clima",
          "Buen Clima",
          "Buen Clima",
          "Buen Clima",
          "Buen Clima",
          "Buen Clima",
          "Buen Clima",
          "Buen Clima",
          "Buen Clima",
          "Buen Clima",
          "Buen Clima",
          "Buen Clima",
          "Buen Clima",
          "Buen Clima",
          "Buen Clima",
          "Buen Clima",
          "Buen Clima",
          "Buen Clima",
          "Buen Clima",
          "Buen Clima",
          "Buen Clima",
          "Buen Clima",
          "Buen Clima",
          "Buen Clima",
          "Buen Clima",
          "Buen Clima",
          "Buen Clima",
          "Buen Clima",
          "Buen Clima",
          "Buen Clima",
          "Buen Clima",
          "Buen Clima",
          "Buen Clima",
          "Buen Clima",
          "Buen Clima",
          "Buen Clima",
          "Buen Clima",
          "Buen Clima",
          "Buen Clima",
          "Buen Clima",
          "Buen Clima",
          "Buen Clima",
          "Buen Clima",
          "Buen Clima",
          "Buen Clima",
          "Buen Clima",
          "Buen Clima",
          "Buen Clima",
          "Buen Clima",
          "Buen Clima",
          "Buen Clima",
          "Buen Clima",
          "Buen Clima",
          "Buen Clima",
          "Buen Clima",
          "Buen Clima",
          "Buen Clima",
          "Buen Clima",
          "Buen Clima",
          "Buen Clima",
          "Buen Clima",
          "Buen Clima",
          "Buen Clima",
          "Buen Clima",
          "Buen Clima",
          "Buen Clima",
          "Buen Clima",
          "Buen Clima",
          "Buen Clima",
          "Buen Clima",
          "Buen Clima",
          "Buen Clima",
          "Buen Clima",
          "Buen Clima",
          "Buen Clima",
          "Buen Clima",
          "Buen Clima",
          "Buen Clima",
          "Buen Clima",
          "Buen Clima",
          "Buen Clima",
          "Buen Clima",
          "Buen Clima",
          "Buen Clima",
          "Buen Clima",
          "Buen Clima",
          "Buen Clima",
          "Buen Clima",
          "Buen Clima",
          "Buen Clima",
          "Buen Clima",
          "Buen Clima",
          "Buen Clima",
          "Buen Clima",
          "Buen Clima",
          "Buen Clima",
          "Buen Clima",
          "Buen Clima",
          "Buen Clima",
          "Buen Clima",
          "Buen Clima",
          "Buen Clima"
         ],
         "x0": " ",
         "xaxis": "x",
         "y": {
          "bdata": "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",
          "dtype": "f8"
         },
         "y0": " ",
         "yaxis": "y"
        }
       ],
       "layout": {
        "boxmode": "overlay",
        "height": 700,
        "legend": {
         "title": {
          "text": "Condición Climática"
         },
         "tracegroupgap": 0
        },
        "showlegend": false,
        "template": {
         "data": {
          "candlestick": [
           {
            "decreasing": {
             "line": {
              "color": "#000033"
             }
            },
            "increasing": {
             "line": {
              "color": "#000032"
             }
            },
            "type": "candlestick"
           }
          ],
          "contour": [
           {
            "colorscale": [
             [
              0,
              "#000011"
             ],
             [
              0.1111111111111111,
              "#000012"
             ],
             [
              0.2222222222222222,
              "#000013"
             ],
             [
              0.3333333333333333,
              "#000014"
             ],
             [
              0.4444444444444444,
              "#000015"
             ],
             [
              0.5555555555555556,
              "#000016"
             ],
             [
              0.6666666666666666,
              "#000017"
             ],
             [
              0.7777777777777778,
              "#000018"
             ],
             [
              0.8888888888888888,
              "#000019"
             ],
             [
              1,
              "#000020"
             ]
            ],
            "type": "contour"
           }
          ],
          "contourcarpet": [
           {
            "colorscale": [
             [
              0,
              "#000011"
             ],
             [
              0.1111111111111111,
              "#000012"
             ],
             [
              0.2222222222222222,
              "#000013"
             ],
             [
              0.3333333333333333,
              "#000014"
             ],
             [
              0.4444444444444444,
              "#000015"
             ],
             [
              0.5555555555555556,
              "#000016"
             ],
             [
              0.6666666666666666,
              "#000017"
             ],
             [
              0.7777777777777778,
              "#000018"
             ],
             [
              0.8888888888888888,
              "#000019"
             ],
             [
              1,
              "#000020"
             ]
            ],
            "type": "contourcarpet"
           }
          ],
          "heatmap": [
           {
            "colorscale": [
             [
              0,
              "#000011"
             ],
             [
              0.1111111111111111,
              "#000012"
             ],
             [
              0.2222222222222222,
              "#000013"
             ],
             [
              0.3333333333333333,
              "#000014"
             ],
             [
              0.4444444444444444,
              "#000015"
             ],
             [
              0.5555555555555556,
              "#000016"
             ],
             [
              0.6666666666666666,
              "#000017"
             ],
             [
              0.7777777777777778,
              "#000018"
             ],
             [
              0.8888888888888888,
              "#000019"
             ],
             [
              1,
              "#000020"
             ]
            ],
            "type": "heatmap"
           }
          ],
          "histogram2d": [
           {
            "colorscale": [
             [
              0,
              "#000011"
             ],
             [
              0.1111111111111111,
              "#000012"
             ],
             [
              0.2222222222222222,
              "#000013"
             ],
             [
              0.3333333333333333,
              "#000014"
             ],
             [
              0.4444444444444444,
              "#000015"
             ],
             [
              0.5555555555555556,
              "#000016"
             ],
             [
              0.6666666666666666,
              "#000017"
             ],
             [
              0.7777777777777778,
              "#000018"
             ],
             [
              0.8888888888888888,
              "#000019"
             ],
             [
              1,
              "#000020"
             ]
            ],
            "type": "histogram2d"
           }
          ],
          "icicle": [
           {
            "textfont": {
             "color": "white"
            },
            "type": "icicle"
           }
          ],
          "sankey": [
           {
            "textfont": {
             "color": "#000036"
            },
            "type": "sankey"
           }
          ],
          "scatter": [
           {
            "marker": {
             "line": {
              "width": 0
             }
            },
            "type": "scatter"
           }
          ],
          "table": [
           {
            "cells": {
             "fill": {
              "color": "#000038"
             },
             "font": {
              "color": "#000037"
             },
             "line": {
              "color": "#000039"
             }
            },
            "header": {
             "fill": {
              "color": "#000040"
             },
             "font": {
              "color": "#000036"
             },
             "line": {
              "color": "#000039"
             }
            },
            "type": "table"
           }
          ],
          "waterfall": [
           {
            "connector": {
             "line": {
              "color": "#000036",
              "width": 2
             }
            },
            "decreasing": {
             "marker": {
              "color": "#000033"
             }
            },
            "increasing": {
             "marker": {
              "color": "#000032"
             }
            },
            "totals": {
             "marker": {
              "color": "#000034"
             }
            },
            "type": "waterfall"
           }
          ]
         },
         "layout": {
          "coloraxis": {
           "colorscale": [
            [
             0,
             "#000011"
            ],
            [
             0.1111111111111111,
             "#000012"
            ],
            [
             0.2222222222222222,
             "#000013"
            ],
            [
             0.3333333333333333,
             "#000014"
            ],
            [
             0.4444444444444444,
             "#000015"
            ],
            [
             0.5555555555555556,
             "#000016"
            ],
            [
             0.6666666666666666,
             "#000017"
            ],
            [
             0.7777777777777778,
             "#000018"
            ],
            [
             0.8888888888888888,
             "#000019"
            ],
            [
             1,
             "#000020"
            ]
           ]
          },
          "colorscale": {
           "diverging": [
            [
             0,
             "#000021"
            ],
            [
             0.1,
             "#000022"
            ],
            [
             0.2,
             "#000023"
            ],
            [
             0.3,
             "#000024"
            ],
            [
             0.4,
             "#000025"
            ],
            [
             0.5,
             "#000026"
            ],
            [
             0.6,
             "#000027"
            ],
            [
             0.7,
             "#000028"
            ],
            [
             0.8,
             "#000029"
            ],
            [
             0.9,
             "#000030"
            ],
            [
             1,
             "#000031"
            ]
           ],
           "sequential": [
            [
             0,
             "#000011"
            ],
            [
             0.1111111111111111,
             "#000012"
            ],
            [
             0.2222222222222222,
             "#000013"
            ],
            [
             0.3333333333333333,
             "#000014"
            ],
            [
             0.4444444444444444,
             "#000015"
            ],
            [
             0.5555555555555556,
             "#000016"
            ],
            [
             0.6666666666666666,
             "#000017"
            ],
            [
             0.7777777777777778,
             "#000018"
            ],
            [
             0.8888888888888888,
             "#000019"
            ],
            [
             1,
             "#000020"
            ]
           ],
           "sequentialminus": [
            [
             0,
             "#000011"
            ],
            [
             0.1111111111111111,
             "#000012"
            ],
            [
             0.2222222222222222,
             "#000013"
            ],
            [
             0.3333333333333333,
             "#000014"
            ],
            [
             0.4444444444444444,
             "#000015"
            ],
            [
             0.5555555555555556,
             "#000016"
            ],
            [
             0.6666666666666666,
             "#000017"
            ],
            [
             0.7777777777777778,
             "#000018"
            ],
            [
             0.8888888888888888,
             "#000019"
            ],
            [
             1,
             "#000020"
            ]
           ]
          },
          "colorway": [
           "#000001",
           "#000002",
           "#000003",
           "#000004",
           "#000005",
           "#000006",
           "#000007",
           "#000008",
           "#000009",
           "#000010"
          ]
         }
        },
        "title": {
         "text": "Duración de Viajes los Sábados según Condición Climática"
        },
        "width": 1000,
        "xaxis": {
         "anchor": "y",
         "categoryarray": [
          "Mal Clima",
          "Buen Clima"
         ],
         "categoryorder": "array",
         "domain": [
          0,
          1
         ],
         "title": {
          "text": "Condición Climática"
         }
        },
        "yaxis": {
         "anchor": "x",
         "domain": [
          0,
          1
         ],
         "title": {
          "text": "Duración del Viaje (segundos)"
         }
        }
       }
      }
     },
     "metadata": {},
     "output_type": "display_data"
    }
   ],
   "source": [
    "import plotly.express as px\n",
    "import pandas as pd\n",
    "\n",
    "# Crear un DataFrame combinado para graficar\n",
    "df_boxplot = pd.DataFrame({\n",
    "    'Duración del Viaje (segundos)': pd.concat([lluvioso, no_llu], ignore_index=True),\n",
    "    'Condición Climática': ['Mal Clima'] * len(lluvioso) + ['Buen Clima'] * len(no_llu)\n",
    "})\n",
    "\n",
    "# Boxplot interactivo\n",
    "fig = px.box(\n",
    "    df_boxplot,\n",
    "    x='Condición Climática',\n",
    "    y='Duración del Viaje (segundos)',\n",
    "    color='Condición Climática',\n",
    "    title='Duración de Viajes los Sábados según Condición Climática',\n",
    "    points='all',  # Muestra todos los puntos individuales\n",
    "    width=1000,\n",
    "    height=700,\n",
    "    color_discrete_map={'Buen Clima': 'blue', 'Mal Clima': 'red'}\n",
    ")\n",
    "\n",
    "fig.update_layout(showlegend=False)\n",
    "fig.show()\n",
    "\n"
   ]
  },
  {
   "cell_type": "markdown",
   "id": "9f2613b6-aec9-4950-a172-1a3bd7be7295",
   "metadata": {},
   "source": [
    "# 4 Conclusión de la prueba de hipótesis\n",
    "\n",
    "Tras aplicar las pruebas estadísticas, se evaluó si la duración promedio de los viajes desde el Loop hasta el Aeropuerto O'Hare cambia en sábados con mal clima comparado con sábados de buen clima.\n",
    "\n",
    "Primero se verificó la normalidad de ambas muestras utilizando la prueba de Shapiro-Wilk. Según los resultados:\n",
    "- Si ambas muestras siguen una distribución normal, se aplicó un t-test.\n",
    "- Si al menos una no sigue distribución normal, se usó la prueba de Mann-Whitney U.\n",
    "\n",
    "Con un nivel de significancia de α = 0.05:\n",
    "- Si el p-valor fue menor que 0.05, se rechazó la hipótesis nula, concluyendo que **sí hay diferencia significativa** en la duración promedio.\n",
    "- Si el p-valor fue mayor o igual a 0.05, no se pudo rechazar la hipótesis nula, lo que indica que **no hay evidencia suficiente** para afirmar un cambio en la duración media de los viajes.\n",
    "\n",
    "Esta prueba permite tomar decisiones informadas respecto al impacto del clima en la duración de los trayectos entre estos dos puntos clave de Chicago.\n",
    "\n",
    "#  Resumen final del proyecto\n",
    "\n",
    "✅ En este proyecto analizamos datos de taxis en Chicago durante noviembre de 2017. El trabajo se dividió en dos grandes partes:\n",
    "\n",
    "🔹 Parte 1: Análisis exploratorio de datos\n",
    "- Se estudiaron dos conjuntos de datos: uno sobre el número de viajes por empresa de taxis, y otro sobre la cantidad promedio de viajes por barrio.\n",
    "- Se identificaron las 10 empresas con más viajes; destacaron 'Flash Cab', 'Taxi Affiliation Services', y 'Taxi Affiliation'.\n",
    "- También se identificaron los 10 barrios más populares para finalizar viajes, siendo 'Loop' el más destacado, seguido por 'River North' y 'Streeterville'.\n",
    "- Se realizaron gráficos interactivos que ayudaron a visualizar claramente las diferencias y patrones.\n",
    "\n",
    "🔹 Parte 2: Prueba de hipótesis\n",
    "- Se analizó si la duración promedio de los viajes desde el Loop hasta el Aeropuerto O'Hare cambia los sábados con mal clima.\n",
    "- Se realizó una prueba de normalidad (Shapiro-Wilk), que mostró que las distribuciones no son normales.\n",
    "- Por tanto, se aplicó la prueba de Mann-Whitney U, la cual arrojó un p-valor de 0.0000.\n",
    "- Resultado: Rechazamos la hipótesis nula. **Sí existe una diferencia significativa en la duración de los viajes entre sábados con buen clima (sin lluvia) y mal clima (con lluvia).**\n",
    "\n",
    "📌 Conclusión general:\n",
    "El análisis permitió identificar a las principales empresas y zonas de actividad de los taxis en Chicago, y mostró que las condiciones climáticas afectan significativamente la duración de los trayectos al aeropuerto los sábados.\n",
    "\n",
    "Herramientas utilizadas: `pandas`, `matplotlib`, `seaborn`, `plotly.express`, `scipy`"
   ]
  },
  {
   "cell_type": "markdown",
   "id": "4750cb2b-2395-4c5a-8945-fd064424c55c",
   "metadata": {},
   "source": [
    "# Comentario general del revisor\n",
    "<div class=\"alert alert-block alert-success\">\n",
    "<b>Comentario del revisor</b> <a class=\"tocSkip\"></a><br />\n",
    "Has realizado un buen trabajo, me doy cuenta de que has aplicado los conocimientos que has adquirido durante el curso, los procedimientos realizados son correctos, este es un ejercicio que nos ayuda a entender y comprobar las hipotesis con procesos estadisticos.<br/>    \n",
    "<br/>    \n",
    "Continúa con el buen trabajo y mucho éxito en el siguiente Sprint!\n",
    "</div>\n"
   ]
  }
 ],
 "metadata": {
  "kernelspec": {
   "display_name": ".venv",
   "language": "python",
   "name": "python3"
  },
  "language_info": {
   "codemirror_mode": {
    "name": "ipython",
    "version": 3
   },
   "file_extension": ".py",
   "mimetype": "text/x-python",
   "name": "python",
   "nbconvert_exporter": "python",
   "pygments_lexer": "ipython3",
   "version": "3.13.5"
  }
 },
 "nbformat": 4,
 "nbformat_minor": 5
}
